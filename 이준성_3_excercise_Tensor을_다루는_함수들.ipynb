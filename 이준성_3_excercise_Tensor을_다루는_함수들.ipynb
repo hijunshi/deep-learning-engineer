{
  "nbformat": 4,
  "nbformat_minor": 0,
  "metadata": {
    "colab": {
      "name": "이준성_3_excercise_Tensor을 다루는 함수들.ipynb",
      "version": "0.3.2",
      "provenance": [],
      "collapsed_sections": [],
      "include_colab_link": true
    },
    "language_info": {
      "codemirror_mode": {
        "name": "ipython",
        "version": 3
      },
      "file_extension": ".py",
      "mimetype": "text/x-python",
      "name": "python",
      "nbconvert_exporter": "python",
      "pygments_lexer": "ipython3",
      "version": "3.6.5"
    },
    "kernelspec": {
      "display_name": "Python 3",
      "language": "python",
      "name": "python3"
    }
  },
  "cells": [
    {
      "cell_type": "markdown",
      "metadata": {
        "id": "view-in-github",
        "colab_type": "text"
      },
      "source": [
        "<a href=\"https://colab.research.google.com/github/hijunshi/deep-learning-engineer/blob/homeworks_submission/%EC%9D%B4%EC%A4%80%EC%84%B1_3_excercise_Tensor%EC%9D%84_%EB%8B%A4%EB%A3%A8%EB%8A%94_%ED%95%A8%EC%88%98%EB%93%A4.ipynb\" target=\"_parent\"><img src=\"https://colab.research.google.com/assets/colab-badge.svg\" alt=\"Open In Colab\"/></a>"
      ]
    },
    {
      "cell_type": "markdown",
      "metadata": {
        "colab_type": "text",
        "id": "eg-FXzMUL4R2"
      },
      "source": [
        "## Tensor을 다루는 함수들"
      ]
    },
    {
      "cell_type": "code",
      "metadata": {
        "colab_type": "code",
        "id": "TL3R2x-FL4R3",
        "colab": {}
      },
      "source": [
        "%matplotlib inline\n",
        "import numpy as np\n",
        "import tensorflow as tf \n",
        "import matplotlib.pyplot as plt\n",
        "import pandas as pd\n",
        "\n",
        "tf.enable_eager_execution()\n",
        "np.set_printoptions(formatter={\n",
        "    'float_kind': lambda x: \"{0:0.3f}\".format(x)})"
      ],
      "execution_count": 0,
      "outputs": []
    },
    {
      "cell_type": "markdown",
      "metadata": {
        "colab_type": "text",
        "id": "zIjgHJPxL4SB"
      },
      "source": [
        "## 예제 데이터 )  califonia housing price\n",
        "\n",
        "MedInc : 행정 구역 내 소득의 중앙값<br>\n",
        "HouseAge : 행정 구역 내 주택 연식의 중앙값<br>\n",
        "AveRooms : 평균 방 갯수<br>\n",
        "AveBedrms : 평균 침실 갯수<br>\n",
        "Population : 행정 구역 내 인구 수<br>\n",
        "AveOccup : 평균 자가 비율<br>\n",
        "Latitude : 해당 행정 구역의 위도<br>\n",
        "Longitude : 해당 행정 구역의 경도<br>"
      ]
    },
    {
      "cell_type": "code",
      "metadata": {
        "id": "woeGNuiaRg-L",
        "colab_type": "code",
        "outputId": "dfee030f-dd86-481e-b6ac-fb7ca37763de",
        "colab": {
          "base_uri": "https://localhost:8080/",
          "height": 194
        }
      },
      "source": [
        "from sklearn.datasets import fetch_california_housing\n",
        "california = fetch_california_housing()\n",
        "\n",
        "clf_data = california.data\n",
        "\n",
        "df = pd.DataFrame(california.data,columns=california.feature_names)\n",
        "df.head()"
      ],
      "execution_count": 0,
      "outputs": [
        {
          "output_type": "execute_result",
          "data": {
            "text/html": [
              "<div>\n",
              "<style scoped>\n",
              "    .dataframe tbody tr th:only-of-type {\n",
              "        vertical-align: middle;\n",
              "    }\n",
              "\n",
              "    .dataframe tbody tr th {\n",
              "        vertical-align: top;\n",
              "    }\n",
              "\n",
              "    .dataframe thead th {\n",
              "        text-align: right;\n",
              "    }\n",
              "</style>\n",
              "<table border=\"1\" class=\"dataframe\">\n",
              "  <thead>\n",
              "    <tr style=\"text-align: right;\">\n",
              "      <th></th>\n",
              "      <th>MedInc</th>\n",
              "      <th>HouseAge</th>\n",
              "      <th>AveRooms</th>\n",
              "      <th>AveBedrms</th>\n",
              "      <th>Population</th>\n",
              "      <th>AveOccup</th>\n",
              "      <th>Latitude</th>\n",
              "      <th>Longitude</th>\n",
              "    </tr>\n",
              "  </thead>\n",
              "  <tbody>\n",
              "    <tr>\n",
              "      <th>0</th>\n",
              "      <td>8.3252</td>\n",
              "      <td>41.0</td>\n",
              "      <td>6.984127</td>\n",
              "      <td>1.023810</td>\n",
              "      <td>322.0</td>\n",
              "      <td>2.555556</td>\n",
              "      <td>37.88</td>\n",
              "      <td>-122.23</td>\n",
              "    </tr>\n",
              "    <tr>\n",
              "      <th>1</th>\n",
              "      <td>8.3014</td>\n",
              "      <td>21.0</td>\n",
              "      <td>6.238137</td>\n",
              "      <td>0.971880</td>\n",
              "      <td>2401.0</td>\n",
              "      <td>2.109842</td>\n",
              "      <td>37.86</td>\n",
              "      <td>-122.22</td>\n",
              "    </tr>\n",
              "    <tr>\n",
              "      <th>2</th>\n",
              "      <td>7.2574</td>\n",
              "      <td>52.0</td>\n",
              "      <td>8.288136</td>\n",
              "      <td>1.073446</td>\n",
              "      <td>496.0</td>\n",
              "      <td>2.802260</td>\n",
              "      <td>37.85</td>\n",
              "      <td>-122.24</td>\n",
              "    </tr>\n",
              "    <tr>\n",
              "      <th>3</th>\n",
              "      <td>5.6431</td>\n",
              "      <td>52.0</td>\n",
              "      <td>5.817352</td>\n",
              "      <td>1.073059</td>\n",
              "      <td>558.0</td>\n",
              "      <td>2.547945</td>\n",
              "      <td>37.85</td>\n",
              "      <td>-122.25</td>\n",
              "    </tr>\n",
              "    <tr>\n",
              "      <th>4</th>\n",
              "      <td>3.8462</td>\n",
              "      <td>52.0</td>\n",
              "      <td>6.281853</td>\n",
              "      <td>1.081081</td>\n",
              "      <td>565.0</td>\n",
              "      <td>2.181467</td>\n",
              "      <td>37.85</td>\n",
              "      <td>-122.25</td>\n",
              "    </tr>\n",
              "  </tbody>\n",
              "</table>\n",
              "</div>"
            ],
            "text/plain": [
              "   MedInc  HouseAge  AveRooms  ...  AveOccup  Latitude  Longitude\n",
              "0  8.3252      41.0  6.984127  ...  2.555556     37.88    -122.23\n",
              "1  8.3014      21.0  6.238137  ...  2.109842     37.86    -122.22\n",
              "2  7.2574      52.0  8.288136  ...  2.802260     37.85    -122.24\n",
              "3  5.6431      52.0  5.817352  ...  2.547945     37.85    -122.25\n",
              "4  3.8462      52.0  6.281853  ...  2.181467     37.85    -122.25\n",
              "\n",
              "[5 rows x 8 columns]"
            ]
          },
          "metadata": {
            "tags": []
          },
          "execution_count": 6
        }
      ]
    },
    {
      "cell_type": "markdown",
      "metadata": {
        "colab_type": "text",
        "id": "yD9-o--XU0og"
      },
      "source": [
        "## 문제 1. 평균 보다 큰 값의 갯수 세기\n",
        "\n",
        "+ 각 열의 평균보다 큰 값의 갯수를 출력해 보세요. <br>"
      ]
    },
    {
      "cell_type": "code",
      "metadata": {
        "id": "f7xV7UWlRg-R",
        "colab_type": "code",
        "outputId": "eaf793a0-da0f-4d4d-8f91-027e67f15b8c",
        "colab": {
          "base_uri": "https://localhost:8080/",
          "height": 159
        }
      },
      "source": [
        "# 우선 실행해주세요\n",
        "tf_data = tf.constant(df.values)\n",
        "tf_data"
      ],
      "execution_count": 0,
      "outputs": [
        {
          "output_type": "execute_result",
          "data": {
            "text/plain": [
              "<tf.Tensor: id=2, shape=(20640, 8), dtype=float64, numpy=\n",
              "array([[8.325, 41.000, 6.984, ..., 2.556, 37.880, -122.230],\n",
              "       [8.301, 21.000, 6.238, ..., 2.110, 37.860, -122.220],\n",
              "       [7.257, 52.000, 8.288, ..., 2.802, 37.850, -122.240],\n",
              "       ...,\n",
              "       [1.700, 17.000, 5.206, ..., 2.326, 39.430, -121.220],\n",
              "       [1.867, 18.000, 5.330, ..., 2.123, 39.430, -121.320],\n",
              "       [2.389, 16.000, 5.255, ..., 2.617, 39.370, -121.240]])>"
            ]
          },
          "metadata": {
            "tags": []
          },
          "execution_count": 7
        }
      ]
    },
    {
      "cell_type": "markdown",
      "metadata": {
        "id": "o5NO89S4Rg-V",
        "colab_type": "text"
      },
      "source": [
        "#### 답안지 입력란\n",
        "* 아래에 답을 서술하여 주세요\n",
        "* 결과는 `answer1`에 담아주세요"
      ]
    },
    {
      "cell_type": "code",
      "metadata": {
        "colab_type": "code",
        "id": "Cri3jkneT7Oj",
        "outputId": "06eb51ef-b4b6-4039-b843-0c58c33b755a",
        "colab": {
          "base_uri": "https://localhost:8080/",
          "height": 70
        }
      },
      "source": [
        "tf_mean = tf.math.reduce_mean(tf_data, axis=[0])\n",
        "tf_val = tf.cast(tf_data > tf_mean, tf.int32)\n",
        "\n",
        "answer1 = tf.math.reduce_sum(tf_val, axis=[0])\n",
        "\n",
        "answer1\n"
      ],
      "execution_count": 0,
      "outputs": [
        {
          "output_type": "execute_result",
          "data": {
            "text/plain": [
              "<tf.Tensor: id=34, shape=(8,), dtype=int32, numpy=\n",
              "array([ 8636, 10432,  8921,  5362,  7512,  7193,  8896, 11726],\n",
              "      dtype=int32)>"
            ]
          },
          "metadata": {
            "tags": []
          },
          "execution_count": 15
        }
      ]
    },
    {
      "cell_type": "markdown",
      "metadata": {
        "id": "0R-CCqh9Rg-Z",
        "colab_type": "text"
      },
      "source": [
        "#### 정답 확인\n",
        "* 정답을 입력한 후, 아래를 실행시키면 정답인지 확인합니다."
      ]
    },
    {
      "cell_type": "code",
      "metadata": {
        "id": "KQN1voTARg-Z",
        "colab_type": "code",
        "outputId": "39022eb4-9678-4b79-e9bc-a15c205dd37d",
        "colab": {
          "base_uri": "https://localhost:8080/",
          "height": 35
        }
      },
      "source": [
        "from numpy.testing import assert_array_equal\n",
        "\n",
        "assert 'answer1' in globals(), \"결과를 answer1 변수에 담아주세요!, answer1 값을 보고 평가합니다.\"\n",
        "\n",
        "A = df[df>df.mean()].count().values\n",
        "\n",
        "if \"numpy\" in dir(answer1):\n",
        "    answer1 = answer1.numpy()\n",
        "\n",
        "assert_array_equal(A, answer1,\"\\n\\n정답은 \\n{}\\n입니다. 다시 확인해 주세요\".format(A))\n",
        "print(\"정답입니다!!!\")"
      ],
      "execution_count": 0,
      "outputs": [
        {
          "output_type": "stream",
          "text": [
            "정답입니다!!!\n"
          ],
          "name": "stdout"
        }
      ]
    },
    {
      "cell_type": "markdown",
      "metadata": {
        "colab_type": "text",
        "id": "1bGSRH7EWUIl"
      },
      "source": [
        "## 문제 2. HouseAge가 20년 이상의 데이터 가져오기\n",
        "\n",
        "* HouseAge(2번째 열)가 20보다 크거나 같은 데이터들을 가져와 주세요"
      ]
    },
    {
      "cell_type": "code",
      "metadata": {
        "colab_type": "code",
        "id": "TIYWOVOBWUIl",
        "outputId": "857e5ff6-0a50-4400-e75e-6a739633b7f0",
        "colab": {
          "base_uri": "https://localhost:8080/",
          "height": 159
        }
      },
      "source": [
        "# 우선 실행해주세요\n",
        "tf_data = tf.constant(df.values)\n",
        "tf_data"
      ],
      "execution_count": 0,
      "outputs": [
        {
          "output_type": "execute_result",
          "data": {
            "text/plain": [
              "<tf.Tensor: id=107110, shape=(20640, 8), dtype=float64, numpy=\n",
              "array([[8.325, 41.000, 6.984, ..., 2.556, 37.880, -122.230],\n",
              "       [8.301, 21.000, 6.238, ..., 2.110, 37.860, -122.220],\n",
              "       [7.257, 52.000, 8.288, ..., 2.802, 37.850, -122.240],\n",
              "       ...,\n",
              "       [1.700, 17.000, 5.206, ..., 2.326, 39.430, -121.220],\n",
              "       [1.867, 18.000, 5.330, ..., 2.123, 39.430, -121.320],\n",
              "       [2.389, 16.000, 5.255, ..., 2.617, 39.370, -121.240]])>"
            ]
          },
          "metadata": {
            "tags": []
          },
          "execution_count": 23
        }
      ]
    },
    {
      "cell_type": "markdown",
      "metadata": {
        "id": "GMl8zDlGRg-h",
        "colab_type": "text"
      },
      "source": [
        "#### 답안지 입력란\n",
        "* 아래에 답을 서술하여 주세요\n",
        "* 결과는 `answer2`에 담아주세요"
      ]
    },
    {
      "cell_type": "code",
      "metadata": {
        "id": "NvEKhgkERg-i",
        "colab_type": "code",
        "colab": {}
      },
      "source": [
        "answer2 = tf.gather_nd(tf_data, tf.where(tf_data[:,1] >= 20))"
      ],
      "execution_count": 0,
      "outputs": []
    },
    {
      "cell_type": "markdown",
      "metadata": {
        "id": "dv52N33ARg-l",
        "colab_type": "text"
      },
      "source": [
        "#### 정답 확인\n",
        "* 정답을 입력한 후, 아래를 실행시키면 정답인지 확인합니다."
      ]
    },
    {
      "cell_type": "code",
      "metadata": {
        "id": "mwx2nbOWRg-m",
        "colab_type": "code",
        "outputId": "a92cdb7a-159c-4692-a7f5-797bfafcfb6b",
        "colab": {
          "base_uri": "https://localhost:8080/",
          "height": 35
        }
      },
      "source": [
        "from numpy.testing import assert_array_equal\n",
        "\n",
        "assert 'answer2' in globals(), \"결과를 answer2 변수에 담아주세요!\"\n",
        "\n",
        "A = df[df.HouseAge>=20].values\n",
        "\n",
        "if \"numpy\" in dir(answer2):\n",
        "    answer2 = answer2.numpy()\n",
        "\n",
        "assert_array_equal(A, answer2,\n",
        "                   \"\\n\\n정답은 \\n{}\\n입니다. 다시 확인해 주세요\".format(A))\n",
        "print(\"정답입니다!!!\")"
      ],
      "execution_count": 0,
      "outputs": [
        {
          "output_type": "stream",
          "text": [
            "정답입니다!!!\n"
          ],
          "name": "stdout"
        }
      ]
    },
    {
      "cell_type": "markdown",
      "metadata": {
        "id": "rfeges6nRg-p",
        "colab_type": "text"
      },
      "source": [
        "## 문제 3. HouseAge가 50년 이상의 행 인덱스 가져오기\n",
        "* HouseAge(2번째 열)가 50보다 크거나 같은 데이터의 인덱스를 가져와 주세요"
      ]
    },
    {
      "cell_type": "code",
      "metadata": {
        "id": "XWWP_6gfRg-q",
        "colab_type": "code",
        "outputId": "382d4c40-97ee-44d6-d3dc-07540895271f",
        "colab": {
          "base_uri": "https://localhost:8080/",
          "height": 159
        }
      },
      "source": [
        "# 우선 실행해주세요\n",
        "tf_data = tf.constant(df.values)\n",
        "tf_data"
      ],
      "execution_count": 0,
      "outputs": [
        {
          "output_type": "execute_result",
          "data": {
            "text/plain": [
              "<tf.Tensor: id=212342, shape=(20640, 8), dtype=float64, numpy=\n",
              "array([[8.325, 41.000, 6.984, ..., 2.556, 37.880, -122.230],\n",
              "       [8.301, 21.000, 6.238, ..., 2.110, 37.860, -122.220],\n",
              "       [7.257, 52.000, 8.288, ..., 2.802, 37.850, -122.240],\n",
              "       ...,\n",
              "       [1.700, 17.000, 5.206, ..., 2.326, 39.430, -121.220],\n",
              "       [1.867, 18.000, 5.330, ..., 2.123, 39.430, -121.320],\n",
              "       [2.389, 16.000, 5.255, ..., 2.617, 39.370, -121.240]])>"
            ]
          },
          "metadata": {
            "tags": []
          },
          "execution_count": 44
        }
      ]
    },
    {
      "cell_type": "markdown",
      "metadata": {
        "id": "mWnwUc5URg-v",
        "colab_type": "text"
      },
      "source": [
        "#### 답안지 입력란\n",
        "* 아래에 답을 서술하여 주세요\n",
        "* 결과는 `answer3`에 담아주세요"
      ]
    },
    {
      "cell_type": "code",
      "metadata": {
        "id": "YG-1fd88Rg-w",
        "colab_type": "code",
        "colab": {}
      },
      "source": [
        "answer3 = tf.where(tf_data[:,1] >= 50)"
      ],
      "execution_count": 0,
      "outputs": []
    },
    {
      "cell_type": "markdown",
      "metadata": {
        "id": "T90WkaQbRg-z",
        "colab_type": "text"
      },
      "source": [
        "#### 정답 확인\n",
        "* 정답을 입력한 후, 아래를 실행시키면 정답인지 확인합니다."
      ]
    },
    {
      "cell_type": "code",
      "metadata": {
        "id": "CxP8RFdCRg-0",
        "colab_type": "code",
        "outputId": "133bdc55-5690-4933-fb83-5c67b64243c0",
        "colab": {
          "base_uri": "https://localhost:8080/",
          "height": 35
        }
      },
      "source": [
        "from numpy.testing import assert_array_equal\n",
        "\n",
        "assert 'answer3' in globals(), \"결과를 answer3 변수에 담아주세요!\"\n",
        "\n",
        "A = np.where(df.HouseAge>=50)[0]\n",
        "\n",
        "if \"numpy\" in dir(answer3):\n",
        "    answer3 = answer3.numpy()\n",
        "\n",
        "assert_array_equal(A, answer3.ravel(),\n",
        "                   \"\\n\\n정답은 \\n{}\\n입니다. 다시 확인해 주세요\".format(A))\n",
        "print(\"정답입니다!!!\")"
      ],
      "execution_count": 0,
      "outputs": [
        {
          "output_type": "stream",
          "text": [
            "정답입니다!!!\n"
          ],
          "name": "stdout"
        }
      ]
    },
    {
      "cell_type": "code",
      "metadata": {
        "id": "vRwsj9-xHKWN",
        "colab_type": "code",
        "outputId": "55897e93-e0fc-47be-fe25-e0c4e7bc235d",
        "colab": {
          "base_uri": "https://localhost:8080/",
          "height": 141
        }
      },
      "source": [
        "answer3"
      ],
      "execution_count": 0,
      "outputs": [
        {
          "output_type": "execute_result",
          "data": {
            "text/plain": [
              "array([[    2],\n",
              "       [    3],\n",
              "       [    4],\n",
              "       ...,\n",
              "       [20237],\n",
              "       [20443],\n",
              "       [20592]])"
            ]
          },
          "metadata": {
            "tags": []
          },
          "execution_count": 51
        }
      ]
    }
  ]
}