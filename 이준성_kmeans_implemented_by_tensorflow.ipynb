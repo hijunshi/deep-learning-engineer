{
  "nbformat": 4,
  "nbformat_minor": 0,
  "metadata": {
    "colab": {
      "name": "이준성_kmeans_implemented_by_tensorflow.ipynb",
      "version": "0.3.2",
      "provenance": [],
      "collapsed_sections": [],
      "include_colab_link": true
    },
    "language_info": {
      "codemirror_mode": {
        "name": "ipython",
        "version": 3
      },
      "file_extension": ".py",
      "mimetype": "text/x-python",
      "name": "python",
      "nbconvert_exporter": "python",
      "pygments_lexer": "ipython3",
      "version": "3.6.5"
    },
    "kernelspec": {
      "display_name": "Python 3",
      "language": "python",
      "name": "python3"
    }
  },
  "cells": [
    {
      "cell_type": "markdown",
      "metadata": {
        "id": "view-in-github",
        "colab_type": "text"
      },
      "source": [
        "<a href=\"https://colab.research.google.com/github/hijunshi/deep-learning-engineer/blob/homeworks_submission/%EC%9D%B4%EC%A4%80%EC%84%B1_kmeans_implemented_by_tensorflow.ipynb\" target=\"_parent\"><img src=\"https://colab.research.google.com/assets/colab-badge.svg\" alt=\"Open In Colab\"/></a>"
      ]
    },
    {
      "cell_type": "markdown",
      "metadata": {
        "colab_type": "text",
        "id": "-SG8srkJ2upM"
      },
      "source": [
        " ╔══<i><b>&nbsp;Alai-DeepLearning&nbsp;</b></i>══════════════════════════════════╗\n",
        "###  &nbsp;&nbsp; **✎&nbsp;&nbsp;Week 4. Tensorflow basis**\n",
        "# Homework 2. Tensorflow로 K-Means 구현하기\n",
        "\n",
        "### _Objective_\n",
        "1. Tensorflow 을 이용해서 K-Means 알고리즘을 구현합니다.\n",
        "\n",
        "\n",
        "╚═══════════════════════════════════════════════╝"
      ]
    },
    {
      "cell_type": "code",
      "metadata": {
        "colab_type": "code",
        "id": "yChRyhPI3gzv",
        "colab": {}
      },
      "source": [
        "%matplotlib inline\n",
        "import tensorflow as tf \n",
        "import numpy as np\n",
        "import tensorflow as tf\n",
        "import matplotlib.pyplot as plt"
      ],
      "execution_count": 0,
      "outputs": []
    },
    {
      "cell_type": "markdown",
      "metadata": {
        "id": "bu6ToKkY2b5A",
        "colab_type": "text"
      },
      "source": [
        "<br>\n",
        "<br>\n",
        "## 예제 데이터셋 )"
      ]
    },
    {
      "cell_type": "code",
      "metadata": {
        "id": "r-1vPYP32b5A",
        "colab_type": "code",
        "outputId": "5c637542-5931-4f93-d506-019d450d33ee",
        "colab": {
          "base_uri": "https://localhost:8080/",
          "height": 232
        }
      },
      "source": [
        "# 예제 데이터셋 준비하기\n",
        "!wget https://s3.ap-northeast-2.amazonaws.com/pai-datasets/alai-deeplearning/kmeans_dataset.txt\n",
        "dataset = np.loadtxt(\"./kmeans_dataset.txt\")"
      ],
      "execution_count": 0,
      "outputs": [
        {
          "output_type": "stream",
          "text": [
            "--2019-07-10 11:52:00--  https://s3.ap-northeast-2.amazonaws.com/pai-datasets/alai-deeplearning/kmeans_dataset.txt\n",
            "Resolving s3.ap-northeast-2.amazonaws.com (s3.ap-northeast-2.amazonaws.com)... 52.219.60.49\n",
            "Connecting to s3.ap-northeast-2.amazonaws.com (s3.ap-northeast-2.amazonaws.com)|52.219.60.49|:443... connected.\n",
            "HTTP request sent, awaiting response... 200 OK\n",
            "Length: 1520 (1.5K) [text/plain]\n",
            "Saving to: ‘kmeans_dataset.txt’\n",
            "\n",
            "kmeans_dataset.txt  100%[===================>]   1.48K  --.-KB/s    in 0s      \n",
            "\n",
            "2019-07-10 11:52:00 (57.8 MB/s) - ‘kmeans_dataset.txt’ saved [1520/1520]\n",
            "\n"
          ],
          "name": "stdout"
        }
      ]
    },
    {
      "cell_type": "code",
      "metadata": {
        "colab_type": "code",
        "id": "kNGnWsIb0RBW",
        "outputId": "c6e1eab4-0abc-4696-8dfb-162c93bb35d1",
        "colab": {
          "base_uri": "https://localhost:8080/",
          "height": 281
        }
      },
      "source": [
        "# 예제 데이터셋 시각화\n",
        "plt.title(\"The Distribution of Point\")\n",
        "plt.scatter(dataset[:,0],dataset[:,1])\n",
        "plt.show()"
      ],
      "execution_count": 0,
      "outputs": [
        {
          "output_type": "display_data",
          "data": {
            "image/png": "[encoded data removed]",
            "text/plain": [
              "<Figure size 432x288 with 1 Axes>"
            ]
          },
          "metadata": {
            "tags": []
          }
        }
      ]
    },
    {
      "cell_type": "markdown",
      "metadata": {
        "id": "alE47AhF2b5J",
        "colab_type": "text"
      },
      "source": [
        "<br>\n",
        "<br>\n",
        "##  알고리즘 탐색하기\n",
        "---\n",
        "K-means의 알고리즘 순서 \n",
        "\n",
        "1. 초기 중심점을 설정하기 위해 K개의 점 생성(일반적으로 임의)\n",
        "2. 중심점과 각 데이터 사이의 거리를 계산\n",
        "3. 각 데이터를 거리가 가장 가까운 군집으로 할당\n",
        "4. 각 군집 별 점들의 평균을 계산 후, 군집의 중심점을 다시 계산\n",
        "5. 2~4의 과정을 통해 각 데이터 별 군집이 바뀌지 않았으면, 이 과정을 끝냄\n",
        "\n",
        "아래 코드는 Numpy 로 K-means 을 구현한 코드 입니다.<br>\n",
        "\n",
        "---"
      ]
    },
    {
      "cell_type": "code",
      "metadata": {
        "colab_type": "code",
        "id": "n2rzyOJ13MY8",
        "colab": {}
      },
      "source": [
        "def cluster_kmeans(dataset, k):    \n",
        "    # (1) 중심점 초기화\n",
        "    min_x = dataset[:,0].min()\n",
        "    max_x = dataset[:,0].max() \n",
        "    min_y = dataset[:,1].min()\n",
        "    max_y = dataset[:,1].max() \n",
        "\n",
        "    center_x = np.random.uniform(low=min_x, high=max_x, size=k)\n",
        "    center_y = np.random.uniform(low=min_y, high=max_y, size=k)\n",
        "    centroids = np.stack([center_x,center_y],axis=-1)\n",
        "    \n",
        "    # (2) ~ (5) 순회\n",
        "    num_data = dataset.shape[0]\n",
        "    cluster_per_point = np.zeros((num_data)) # 각 점 별 군집\n",
        "\n",
        "    counter = 0\n",
        "    while True:\n",
        "        prev_cluster_per_point = cluster_per_point\n",
        "        \n",
        "        # (2) 거리 계산\n",
        "        diff_mat = (centroids.reshape(-1,1,2) - dataset.reshape(1,-1,2))\n",
        "        dists = np.sqrt((diff_mat**2).sum(axis=-1))\n",
        "        # (3) 각 데이터를 거리가 가장 가까운 군집으로 할당\n",
        "        cluster_per_point = dists.argmin(axis=0)\n",
        "        \n",
        "        # (4) 각 군집 별 점들의 평균을 계산 후, 군집의 중심점을 다시 계산\n",
        "        for i in range(k):\n",
        "            centroids[i] = dataset[cluster_per_point==i].mean(axis=0)\n",
        "\n",
        "        if np.all(prev_cluster_per_point == cluster_per_point):\n",
        "            break\n",
        "\n",
        "        counter += 1\n",
        "        plt.title(\"{}th Distribution of Dataset\".format(counter))\n",
        "        for idx, color in enumerate(['r','g','b','y']):\n",
        "            mask = (cluster_per_point==idx)\n",
        "            plt.scatter(dataset[mask,0],dataset[mask,1],\n",
        "                        label='dataset', c=color)\n",
        "            plt.scatter(centroids[:,0],centroids[:,1],\n",
        "                        s=200, label=\"centroid\", marker='+')\n",
        "        plt.show()\n",
        "    \n",
        "    return centroids"
      ],
      "execution_count": 0,
      "outputs": []
    },
    {
      "cell_type": "code",
      "metadata": {
        "id": "_W7dii_I2b5N",
        "colab_type": "code",
        "outputId": "a0641ad2-a4f4-4a1a-ac8a-74ff3bf49835",
        "colab": {
          "base_uri": "https://localhost:8080/",
          "height": 1000
        }
      },
      "source": [
        "cluster_kmeans(dataset, 4)"
      ],
      "execution_count": 0,
      "outputs": [
        {
          "output_type": "display_data",
          "data": {
            "image/png": "[encoded data removed]",
            "text/plain": [
              "<Figure size 432x288 with 1 Axes>"
            ]
          },
          "metadata": {
            "tags": []
          }
        },
        {
          "output_type": "display_data",
          "data": {
            "image/png": "[encoded data removed]",
            "text/plain": [
              "<Figure size 432x288 with 1 Axes>"
            ]
          },
          "metadata": {
            "tags": []
          }
        },
        {
          "output_type": "display_data",
          "data": {
            "image/png": "[encoded data removed]",
            "text/plain": [
              "<Figure size 432x288 with 1 Axes>"
            ]
          },
          "metadata": {
            "tags": []
          }
        },
        {
          "output_type": "display_data",
          "data": {
            "image/png": "[encoded data removed]",
            "text/plain": [
              "<Figure size 432x288 with 1 Axes>"
            ]
          },
          "metadata": {
            "tags": []
          }
        },
        {
          "output_type": "display_data",
          "data": {
            "image/png": "[encoded data removed]",
            "text/plain": [
              "<Figure size 432x288 with 1 Axes>"
            ]
          },
          "metadata": {
            "tags": []
          }
        },
        {
          "output_type": "execute_result",
          "data": {
            "text/plain": [
              "array([[ 2.6265299 ,  3.10868015],\n",
              "       [-3.53973889, -2.89384326],\n",
              "       [-2.46154315,  2.78737555],\n",
              "       [ 2.65077367, -2.79019029]])"
            ]
          },
          "metadata": {
            "tags": []
          },
          "execution_count": 7
        }
      ]
    },
    {
      "cell_type": "markdown",
      "metadata": {
        "colab_type": "text",
        "id": "Bck5xSdp5MKo"
      },
      "source": [
        "## \\[ 문제 : 텐서플로우를 이용해 K-Means 구현하기 \\]\n",
        "\n",
        "텐서플로우는 numpy와 달리, Dataflow Programming 방식으로 동작합니다. <br>\n",
        "우선 연산을 결정하고, 반복적인 연산은 Session 시에 진행해야 합니다.<br>\n",
        "\n"
      ]
    },
    {
      "cell_type": "code",
      "metadata": {
        "id": "_-Z_k7gR2b5R",
        "colab_type": "code",
        "outputId": "5681600b-c5e5-450d-8f7a-a4c3ad16d299",
        "colab": {
          "base_uri": "https://localhost:8080/",
          "height": 385
        }
      },
      "source": [
        "\n",
        "# tensor로 바꿈\n",
        "dataset_tf = tf.constant(dataset)\n",
        "k = 4\n",
        "\n",
        "min_x = tf.math.reduce_min(dataset_tf[:,0])\n",
        "max_x = tf.math.reduce_max(dataset_tf[:,0])\n",
        "min_y = tf.math.reduce_min(dataset_tf[:,1])\n",
        "max_y = tf.math.reduce_max(dataset_tf[:,1])\n",
        "\n",
        "# 임의의 중심값 생성\n",
        "center_x = tf.random.uniform(shape=[k], minval=min_x, maxval=max_x,dtype='float64')\n",
        "center_y = tf.random.uniform(shape=[k], minval=min_y, maxval=max_y,dtype='float64')\n",
        "centroids = tf.stack([center_x, center_y], axis=-1)\n",
        "centroids = tf.cast(centroids, tf.float64)\n",
        "\n",
        "# 중심값과의 거리계산\n",
        "diff_mat = tf.subtract(tf.reshape(centroids, [-1,1,2]), tf.reshape(dataset_tf, [1,-1,2]))\n",
        "dists = tf.sqrt(tf.reduce_sum(tf.square(diff_mat), axis=1))\n",
        "# 3. 각 데이터를 거리가 가장 가까운 군집으로 할당 \n",
        "# cluster_per_point-> 제일 작은 x,y값의 인덱스가 넘어온다.\n",
        "cluster_per_point = tf.argmin(dists, axis=0)\n",
        "\n",
        "\n",
        "# 4. 각 군집별 점들의 평균을 계산한 후, 군집의 중심점을 다시 계산\n",
        "with tf.Session() as sess:\n",
        "    for i in range(k):\n",
        "        means = tf.concat([tf.reduce_mean(\n",
        "                              tf.gather(\n",
        "                                  dataset_tf, tf.reshape(\n",
        "                                      tf.where(\n",
        "                                          # x,y가 i 군집에 해당하는지 bool값으로 넘어온다.\n",
        "                                          tf.equal(\n",
        "                                              cluster_per_point,i\n",
        "                                              )\n",
        "                                          ),[1,-1]\n",
        "                                      )\n",
        "                                  ), axis=[1]\n",
        "                              )],0\n",
        "                          )\n",
        "    update_centroids = tf.assign(ref=centroids, value=means)\n",
        "\n",
        "    for idx, color in enumerate(['r','g','b','y']):\n",
        "        mask = tf.equal(cluster_per_point, idx)\n",
        "        plt.scatter(dataset_tf[mask,0], dataset_tf[mask,1],\n",
        "                    label='dataset', c=color)\n",
        "        plt.scatter(centroids[:,0], centroids[:,1],\n",
        "                    s=200, label='centroid', marker='+')\n",
        "        plt.show()\n",
        "\n",
        "    sess.run(tf.initialize_all_variables())\n",
        "    sess.run(update_centroids)"
      ],
      "execution_count": 0,
      "outputs": [
        {
          "output_type": "error",
          "ename": "AttributeError",
          "evalue": "ignored",
          "traceback": [
            "\u001b[0;31m---------------------------------------------------------------------------\u001b[0m",
            "\u001b[0;31mAttributeError\u001b[0m                            Traceback (most recent call last)",
            "\u001b[0;32m<ipython-input-9-c4944429f940>\u001b[0m in \u001b[0;36m<module>\u001b[0;34m()\u001b[0m\n\u001b[1;32m     37\u001b[0m                               )],0\n\u001b[1;32m     38\u001b[0m                           )\n\u001b[0;32m---> 39\u001b[0;31m     \u001b[0mupdate_centroids\u001b[0m \u001b[0;34m=\u001b[0m \u001b[0mtf\u001b[0m\u001b[0;34m.\u001b[0m\u001b[0massign\u001b[0m\u001b[0;34m(\u001b[0m\u001b[0mref\u001b[0m\u001b[0;34m=\u001b[0m\u001b[0mcentroids\u001b[0m\u001b[0;34m,\u001b[0m \u001b[0mvalue\u001b[0m\u001b[0;34m=\u001b[0m\u001b[0mmeans\u001b[0m\u001b[0;34m)\u001b[0m\u001b[0;34m\u001b[0m\u001b[0;34m\u001b[0m\u001b[0m\n\u001b[0m\u001b[1;32m     40\u001b[0m     \u001b[0msess\u001b[0m\u001b[0;34m.\u001b[0m\u001b[0mrun\u001b[0m\u001b[0;34m(\u001b[0m\u001b[0mtf\u001b[0m\u001b[0;34m.\u001b[0m\u001b[0minitialize_all_variables\u001b[0m\u001b[0;34m(\u001b[0m\u001b[0;34m)\u001b[0m\u001b[0;34m)\u001b[0m\u001b[0;34m\u001b[0m\u001b[0;34m\u001b[0m\u001b[0m\n\u001b[1;32m     41\u001b[0m     \u001b[0msess\u001b[0m\u001b[0;34m.\u001b[0m\u001b[0mrun\u001b[0m\u001b[0;34m(\u001b[0m\u001b[0mupdate_centroids\u001b[0m\u001b[0;34m)\u001b[0m\u001b[0;34m\u001b[0m\u001b[0;34m\u001b[0m\u001b[0m\n",
            "\u001b[0;32m/usr/local/lib/python3.6/dist-packages/tensorflow/python/ops/state_ops.py\u001b[0m in \u001b[0;36massign\u001b[0;34m(ref, value, validate_shape, use_locking, name)\u001b[0m\n\u001b[1;32m    226\u001b[0m         \u001b[0mref\u001b[0m\u001b[0;34m,\u001b[0m \u001b[0mvalue\u001b[0m\u001b[0;34m,\u001b[0m \u001b[0muse_locking\u001b[0m\u001b[0;34m=\u001b[0m\u001b[0muse_locking\u001b[0m\u001b[0;34m,\u001b[0m \u001b[0mname\u001b[0m\u001b[0;34m=\u001b[0m\u001b[0mname\u001b[0m\u001b[0;34m,\u001b[0m\u001b[0;34m\u001b[0m\u001b[0;34m\u001b[0m\u001b[0m\n\u001b[1;32m    227\u001b[0m         validate_shape=validate_shape)\n\u001b[0;32m--> 228\u001b[0;31m   \u001b[0;32mreturn\u001b[0m \u001b[0mref\u001b[0m\u001b[0;34m.\u001b[0m\u001b[0massign\u001b[0m\u001b[0;34m(\u001b[0m\u001b[0mvalue\u001b[0m\u001b[0;34m,\u001b[0m \u001b[0mname\u001b[0m\u001b[0;34m=\u001b[0m\u001b[0mname\u001b[0m\u001b[0;34m)\u001b[0m\u001b[0;34m\u001b[0m\u001b[0;34m\u001b[0m\u001b[0m\n\u001b[0m\u001b[1;32m    229\u001b[0m \u001b[0;34m\u001b[0m\u001b[0m\n\u001b[1;32m    230\u001b[0m \u001b[0;34m\u001b[0m\u001b[0m\n",
            "\u001b[0;31mAttributeError\u001b[0m: 'Tensor' object has no attribute 'assign'"
          ]
        }
      ]
    },
    {
      "cell_type": "code",
      "metadata": {
        "id": "b_Om_fDmupMj",
        "colab_type": "code",
        "colab": {}
      },
      "source": [
        ""
      ],
      "execution_count": 0,
      "outputs": []
    }
  ]
}