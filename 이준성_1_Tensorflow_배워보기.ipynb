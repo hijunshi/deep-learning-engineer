{
  "nbformat": 4,
  "nbformat_minor": 0,
  "metadata": {
    "colab": {
      "name": "이준성_1_Tensorflow_배워보기.ipynb",
      "version": "0.3.2",
      "provenance": [],
      "collapsed_sections": [],
      "include_colab_link": true
    },
    "language_info": {
      "codemirror_mode": {
        "name": "ipython",
        "version": 3
      },
      "file_extension": ".py",
      "mimetype": "text/x-python",
      "name": "python",
      "nbconvert_exporter": "python",
      "pygments_lexer": "ipython3",
      "version": "3.6.5"
    },
    "kernelspec": {
      "display_name": "Python 3",
      "language": "python",
      "name": "python3"
    }
  },
  "cells": [
    {
      "cell_type": "markdown",
      "metadata": {
        "id": "view-in-github",
        "colab_type": "text"
      },
      "source": [
        "<a href=\"https://colab.research.google.com/github/hijunshi/deep-learning-engineer/blob/homeworks_submission/%EC%9D%B4%EC%A4%80%EC%84%B1_1_Tensorflow_%EB%B0%B0%EC%9B%8C%EB%B3%B4%EA%B8%B0.ipynb\" target=\"_parent\"><img src=\"https://colab.research.google.com/assets/colab-badge.svg\" alt=\"Open In Colab\"/></a>"
      ]
    },
    {
      "cell_type": "markdown",
      "metadata": {
        "colab_type": "text",
        "id": "JwXVP87OO6RW"
      },
      "source": [
        "\n",
        "## Tensorflow Basis\n",
        "\n",
        "### _Objective_\n",
        "Tensorflow 는 무엇이고 어떻게 구성되어 있는지 배워봅니다.\n"
      ]
    },
    {
      "cell_type": "code",
      "metadata": {
        "colab_type": "code",
        "id": "k-o8zDSkO6RZ",
        "colab": {}
      },
      "source": [
        "%matplotlib inline\n",
        "import numpy as np\n",
        "import tensorflow as tf\n",
        "import matplotlib.pyplot as plt"
      ],
      "execution_count": 0,
      "outputs": []
    },
    {
      "cell_type": "markdown",
      "metadata": {
        "colab_type": "text",
        "id": "TyeH2DMtxYeU"
      },
      "source": [
        "### [Optional.  Tensorflow Graph Visualization ]\n",
        "\n",
        "---\n",
        "\n",
        "> _Jupyter에서 Tensorflow에서 구성되는 Graph를 시각적으로 보여주기 위한 helper 메소드입니다._ <br>\n",
        "> _우선 실행 시켜 주세요._<br>"
      ]
    },
    {
      "cell_type": "code",
      "metadata": {
        "colab_type": "code",
        "id": "ovf73RhqxYeV",
        "colab": {}
      },
      "source": [
        "from IPython.display import clear_output, Image, display, HTML\n",
        "import numpy as np    \n",
        "\n",
        "def strip_consts(graph_def, max_const_size=32):\n",
        "    \"\"\"Strip large constant values from graph_def.\"\"\"\n",
        "    strip_def = tf.GraphDef()\n",
        "    for n0 in graph_def.node:\n",
        "        n = strip_def.node.add() \n",
        "        n.MergeFrom(n0)\n",
        "        if n.op == 'Const':\n",
        "            tensor = n.attr['value'].tensor\n",
        "            size = len(tensor.tensor_content)\n",
        "            if size > max_const_size:\n",
        "                tensor.tensor_content = \"<stripped %d bytes>\"%size\n",
        "    return strip_def\n",
        "\n",
        "def show_graph(graph_def, max_const_size=32):\n",
        "    \"\"\"Visualize TensorFlow graph.\"\"\"\n",
        "    if hasattr(graph_def, 'as_graph_def'):\n",
        "        graph_def = graph_def.as_graph_def()\n",
        "    strip_def = strip_consts(graph_def, max_const_size=max_const_size)\n",
        "    code = \"\"\"\n",
        "        <script>\n",
        "          function load() {{\n",
        "            document.getElementById(\"{id}\").pbtxt = {data};\n",
        "          }}\n",
        "        </script>\n",
        "        <link rel=\"import\" href=\"https://tensorboard.appspot.com/tf-graph-basic.build.html\" onload=load()>\n",
        "        <div style=\"height:600px\">\n",
        "          <tf-graph-basic id=\"{id}\"></tf-graph-basic>\n",
        "        </div>\n",
        "    \"\"\".format(data=repr(str(strip_def)), id='graph'+str(np.random.rand()))\n",
        "\n",
        "    iframe = \"\"\"\n",
        "        <iframe seamless style=\"width:1200px;height:620px;border:0\" srcdoc=\"{}\"></iframe>\n",
        "    \"\"\".format(code.replace('\"', '&quot;'))\n",
        "    display(HTML(iframe))"
      ],
      "execution_count": 0,
      "outputs": []
    },
    {
      "cell_type": "markdown",
      "metadata": {
        "colab_type": "text",
        "id": "F_ac_F0QO6Rm"
      },
      "source": [
        "## 문제 1. 근의 방정식 구현\n",
        "* Tensorflow를 통해 아래 해를 구해주세요\n",
        "$$\n",
        "3x^2+4x+5 = 0\n",
        "$$\n",
        "\n",
        "#### hint, 근의 공식은 아래와 같습니다.<br>\n",
        "$\n",
        "x_{1}=\\frac  {-b - {\\sqrt  {b^{2}-ac\\ }}}{a}\\\\\n",
        "x_{2}=\\frac  {-b + {\\sqrt  {b^{2}-ac\\ }}}{a}\n",
        "$<br>"
      ]
    },
    {
      "cell_type": "code",
      "metadata": {
        "id": "HNrIYmV8iwj4",
        "colab_type": "code",
        "colab": {}
      },
      "source": [
        "# 우선 실행해 주세요\n",
        "tf.reset_default_graph()\n",
        "a = tf.constant(3.)\n",
        "b = tf.constant(4.)\n",
        "c = tf.constant(5.)"
      ],
      "execution_count": 0,
      "outputs": []
    },
    {
      "cell_type": "markdown",
      "metadata": {
        "id": "cKL0wtPGiwj-",
        "colab_type": "text"
      },
      "source": [
        "#### 답안지 입력란\n",
        "* 아래에 답을 서술하여 주세요\n",
        "* 결과는 두 해 중 작은 값은 `answer1_1`에 담고, 큰 값은 `answer1_2`에 담아주세요"
      ]
    },
    {
      "cell_type": "code",
      "metadata": {
        "colab_type": "code",
        "id": "r_SioX5As9kt",
        "colab": {}
      },
      "source": [
        "# 정답을 입력해 주세요\n",
        "bac = tf.sqrt(tf.subtract(tf.square(b),tf.multiply(a,c)))\n",
        "nb = tf.negative(b)\n",
        "\n",
        "anw1 = (nb - bac) / a\n",
        "anw2 = (nb + bac) / a\n",
        "\n",
        "sess = tf.Session()\n",
        "answer1_1, answer1_2 = sess.run([anw1, anw2])"
      ],
      "execution_count": 0,
      "outputs": []
    },
    {
      "cell_type": "code",
      "metadata": {
        "id": "A2DVqwwmolYw",
        "colab_type": "code",
        "outputId": "f72a80ea-6dfb-4e1b-d786-abbe20fb8ab4",
        "colab": {
          "base_uri": "https://localhost:8080/",
          "height": 35
        }
      },
      "source": [
        "print('answer1_1 : {}, answer1_2 : {}'.format(answer1_1, answer1_2))"
      ],
      "execution_count": 0,
      "outputs": [
        {
          "output_type": "stream",
          "text": [
            "answer1_1 : -1.6666666269302368, answer1_2 : -1.0\n"
          ],
          "name": "stdout"
        }
      ]
    },
    {
      "cell_type": "markdown",
      "metadata": {
        "id": "3zj93SSmiwkD",
        "colab_type": "text"
      },
      "source": [
        "#### 정답 확인\n",
        "* 정답을 입력한 후, 아래를 실행시키면 정답인지 확인합니다."
      ]
    },
    {
      "cell_type": "code",
      "metadata": {
        "id": "KVJ909UDiwkF",
        "colab_type": "code",
        "colab": {}
      },
      "source": [
        "from numpy.testing import assert_almost_equal\n",
        "\n",
        "assert 'answer1_1' in globals(), \"결과를 answer1_1 변수에 담아주세요!\"\n",
        "assert 'answer1_2' in globals(), \"결과를 answer1_2 변수에 담아주세요!\"\n",
        "\n",
        "A1_1 = -1.6666666\n",
        "A1_2 = -1.0\n",
        "\n",
        "assert_almost_equal(A1_1, answer1_1,\n",
        "               err_msg=\"\\nanswer1_1 정답은 \\n{}\\n입니다. 다시 확인해 주세요\\n\".format(A1_1))\n",
        "assert_almost_equal(A1_2, answer1_2,\n",
        "               err_msg=\"\\nanswer1_2 정답은 \\n{}\\n입니다. 다시 확인해 주세요\\n\".format(A1_2))"
      ],
      "execution_count": 0,
      "outputs": []
    },
    {
      "cell_type": "markdown",
      "metadata": {
        "colab_type": "text",
        "id": "aShor7ONBtqt"
      },
      "source": [
        "## 문제 2. sin 함수 \n",
        "* 아래 수식을 구현하고 시각화해 주세요\n",
        "\n",
        "$$y(x) = \\frac{sin(\\pi x )}{\\pi}$$\n",
        "\n",
        "* x = 0.0~ 10.0 까지 0.01 단위로 생성합니다."
      ]
    },
    {
      "cell_type": "code",
      "metadata": {
        "id": "CBVUmC3ViwkN",
        "colab_type": "code",
        "colab": {}
      },
      "source": [
        "# 우선 실행해 주세요\n",
        "tf.reset_default_graph()\n",
        "pi = tf.constant(3.14,dtype=tf.float32)\n",
        "xs_values = np.arange(0,10,0.01)\n",
        "xs = tf.constant(xs_values, dtype=tf.float32)"
      ],
      "execution_count": 0,
      "outputs": []
    },
    {
      "cell_type": "markdown",
      "metadata": {
        "id": "3-7F88R8iwkQ",
        "colab_type": "text"
      },
      "source": [
        "#### 답안지 입력란\n",
        "* 아래에 답을 서술하여 주세요\n",
        "* 결과는 `answer2`에 담아주세요"
      ]
    },
    {
      "cell_type": "code",
      "metadata": {
        "colab_type": "code",
        "id": "6gaHdSvG3H0s",
        "outputId": "88302315-589c-45b1-9ee3-d329977832fa",
        "colab": {
          "base_uri": "https://localhost:8080/",
          "height": 269
        }
      },
      "source": [
        "ys = tf.sin(pi * xs) / pi\n",
        "\n",
        "sess = tf.Session()\n",
        "xs_, answer2 = sess.run([xs, ys])\n",
        "\n",
        "plt.scatter(xs_,  answer2)\n",
        "plt.show()"
      ],
      "execution_count": 0,
      "outputs": [
        {
          "output_type": "display_data",
          "data": {
            "image/png": "[encoded data removed]",
            "text/plain": [
              "<Figure size 432x288 with 1 Axes>"
            ]
          },
          "metadata": {
            "tags": []
          }
        }
      ]
    },
    {
      "cell_type": "markdown",
      "metadata": {
        "id": "Ony9D9dIiwkV",
        "colab_type": "text"
      },
      "source": [
        "#### 정답 확인\n",
        "* 아래와 동일하게 나오는지 확인해 주세요\n",
        "\n",
        "![Imgur](https://i.imgur.com/sL24UV5.png)"
      ]
    },
    {
      "cell_type": "code",
      "metadata": {
        "id": "vBrV-XKmiwkY",
        "colab_type": "code",
        "outputId": "ec17f163-1009-44b2-ee9d-540a2a3e0e4d",
        "colab": {
          "base_uri": "https://localhost:8080/",
          "height": 269
        }
      },
      "source": [
        "import matplotlib.pyplot as plt \n",
        "plt.scatter(xs_values, answer2)\n",
        "plt.show()"
      ],
      "execution_count": 0,
      "outputs": [
        {
          "output_type": "display_data",
          "data": {
            "image/png": "[encoded data removed]",
            "text/plain": [
              "<Figure size 432x288 with 1 Axes>"
            ]
          },
          "metadata": {
            "tags": []
          }
        }
      ]
    },
    {
      "cell_type": "code",
      "metadata": {
        "id": "dhLXAyYdv5Ye",
        "colab_type": "code",
        "colab": {}
      },
      "source": [
        ""
      ],
      "execution_count": 0,
      "outputs": []
    }
  ]
}