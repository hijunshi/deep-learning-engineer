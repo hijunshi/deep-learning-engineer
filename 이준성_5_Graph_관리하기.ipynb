{
  "nbformat": 4,
  "nbformat_minor": 0,
  "metadata": {
    "colab": {
      "name": "이준성_5_Graph_관리하기.ipynb",
      "version": "0.3.2",
      "provenance": [],
      "collapsed_sections": [],
      "include_colab_link": true
    },
    "language_info": {
      "codemirror_mode": {
        "name": "ipython",
        "version": 3
      },
      "file_extension": ".py",
      "mimetype": "text/x-python",
      "name": "python",
      "nbconvert_exporter": "python",
      "pygments_lexer": "ipython3",
      "version": "3.6.5"
    },
    "kernelspec": {
      "display_name": "Python 3",
      "language": "python",
      "name": "python3"
    }
  },
  "cells": [
    {
      "cell_type": "markdown",
      "metadata": {
        "id": "view-in-github",
        "colab_type": "text"
      },
      "source": [
        "<a href=\"https://colab.research.google.com/github/hijunshi/deep-learning-engineer/blob/homeworks_submission/%EC%9D%B4%EC%A4%80%EC%84%B1_5_Graph_%EA%B4%80%EB%A6%AC%ED%95%98%EA%B8%B0.ipynb\" target=\"_parent\"><img src=\"https://colab.research.google.com/assets/colab-badge.svg\" alt=\"Open In Colab\"/></a>"
      ]
    },
    {
      "cell_type": "markdown",
      "metadata": {
        "colab_type": "text",
        "id": "JwXVP87OO6RW"
      },
      "source": [
        "## Graph 관리하기 "
      ]
    },
    {
      "cell_type": "code",
      "metadata": {
        "id": "WLkFIDzDXj0U",
        "colab_type": "code",
        "colab": {}
      },
      "source": [
        "%matplotlib inline\n",
        "import tensorflow as tf \n",
        "from skimage import data\n",
        "import numpy as np\n",
        "\n",
        "import matplotlib.pyplot as plt"
      ],
      "execution_count": 0,
      "outputs": []
    },
    {
      "cell_type": "markdown",
      "metadata": {
        "colab_type": "text",
        "id": "M1nhRjsbO6Rl"
      },
      "source": [
        "##  문제 1. collections 만들기 및 추가하기 \n",
        "\n",
        "skimage library 에는 영상처리에서 자주 사용되는 여러 사진들이 저장 되어 있습니다.<br>\n",
        "이 이미지들을 constant 텐서로 만들어서 Collection에 담아주세요.<br>\n",
        "* 흑백 이미지는 gray 란 이름의 collection 으로 넣어주세요.\n",
        "* 컬러 이미지는 color 란 이름의 collection 으로 넣어주세요."
      ]
    },
    {
      "cell_type": "code",
      "metadata": {
        "colab_type": "code",
        "id": "RXbTCBg-b1LM",
        "colab": {}
      },
      "source": [
        "# 우선 실행해 주세요.\n",
        "tf.reset_default_graph()\n",
        "\n",
        "# gray Image\n",
        "gray_0 = tf.constant(data.camera() ,name='camera')\n",
        "gray_1 = tf.constant(data.binary_blobs(), name='binary_blobs')\n",
        "gray_2 = tf.constant(data.checkerboard(), name='checkerboard')\n",
        "gray_3 = tf.constant(data.coins(), name='coins')\n",
        "gray_4 = tf.constant(data.horse(), name='horse')\n",
        "\n",
        "# color Image\n",
        "color_0 = tf.constant(data.chelsea() ,name='chelsea')\n",
        "color_1 = tf.constant(data.astronaut(), name='astronaut')\n",
        "color_2 = tf.constant(data.hubble_deep_field(), name='hubble_deep_field')"
      ],
      "execution_count": 0,
      "outputs": []
    },
    {
      "cell_type": "markdown",
      "metadata": {
        "id": "9_tCOTr4Xj0f",
        "colab_type": "text"
      },
      "source": [
        "#### 답안지 입력란\n",
        "* 아래에 답을 서술하여 주세요"
      ]
    },
    {
      "cell_type": "code",
      "metadata": {
        "id": "9PXGlz8YXj0g",
        "colab_type": "code",
        "colab": {}
      },
      "source": [
        "\n",
        "var_globals = globals()\n",
        "\n",
        "for key in var_globals :\n",
        "    if 'gray' in key:\n",
        "        tf.add_to_collection('gray', a[key])\n",
        "    elif 'color' in key:\n",
        "        tf.add_to_collection('color', a[key])\n",
        "\n",
        "\n",
        "\n",
        "# with graph.as_default():\n",
        "#     tf.add_to_collection('grays', gray_0)\n",
        "#     tf.add_to_collection('grays', gray_1)\n",
        "#     tf.add_to_collection('grays', gray_2)\n",
        "#     tf.add_to_collection('grays', gray_3)\n",
        "#     tf.add_to_collection('grays', gray_4)\n",
        "    \n",
        "#     tf.add_to_collection('colors', color_0)\n",
        "#     tf.add_to_collection('colors', color_1)\n",
        "#     tf.add_to_collection('colors', color_2)\n",
        "    \n",
        "# tf.add_to_collections('gray', grays)\n",
        "# tf.add_to_collections('color', colors)\n",
        "\n",
        "# tf.get_all_collection_keys()"
      ],
      "execution_count": 0,
      "outputs": []
    },
    {
      "cell_type": "markdown",
      "metadata": {
        "id": "fIIfiJ1jXj0i",
        "colab_type": "text"
      },
      "source": [
        "#### 정답 확인\n",
        "* 정답이 아래와 같이 나타나면 됩니다."
      ]
    },
    {
      "cell_type": "code",
      "metadata": {
        "id": "4RUQwiGEXj0j",
        "colab_type": "code",
        "outputId": "944e2f3b-b29a-41df-8e35-bd099b18b57b",
        "colab": {
          "base_uri": "https://localhost:8080/",
          "height": 72
        }
      },
      "source": [
        "print(tf.get_collection('gray'))\n",
        "print(tf.get_collection('color'))"
      ],
      "execution_count": 0,
      "outputs": [
        {
          "output_type": "stream",
          "text": [
            "[<tf.Tensor 'camera:0' shape=(512, 512) dtype=uint8>, <tf.Tensor 'binary_blobs:0' shape=(512, 512) dtype=bool>, <tf.Tensor 'checkerboard:0' shape=(200, 200) dtype=uint8>, <tf.Tensor 'coins:0' shape=(303, 384) dtype=uint8>, <tf.Tensor 'horse:0' shape=(328, 400) dtype=bool>, <tf.Tensor 'camera:0' shape=(512, 512) dtype=uint8>, <tf.Tensor 'binary_blobs:0' shape=(512, 512) dtype=bool>, <tf.Tensor 'checkerboard:0' shape=(200, 200) dtype=uint8>, <tf.Tensor 'coins:0' shape=(303, 384) dtype=uint8>, <tf.Tensor 'horse:0' shape=(328, 400) dtype=bool>, <tf.Tensor 'camera:0' shape=(512, 512) dtype=uint8>, <tf.Tensor 'binary_blobs:0' shape=(512, 512) dtype=bool>, <tf.Tensor 'checkerboard:0' shape=(200, 200) dtype=uint8>, <tf.Tensor 'coins:0' shape=(303, 384) dtype=uint8>, <tf.Tensor 'horse:0' shape=(328, 400) dtype=bool>]\n",
            "[<tf.Tensor 'chelsea:0' shape=(300, 451, 3) dtype=uint8>, <tf.Tensor 'astronaut:0' shape=(512, 512, 3) dtype=uint8>, <tf.Tensor 'hubble_deep_field:0' shape=(872, 1000, 3) dtype=uint8>, <tf.Tensor 'chelsea:0' shape=(300, 451, 3) dtype=uint8>, <tf.Tensor 'astronaut:0' shape=(512, 512, 3) dtype=uint8>, <tf.Tensor 'hubble_deep_field:0' shape=(872, 1000, 3) dtype=uint8>, <tf.Tensor 'chelsea:0' shape=(300, 451, 3) dtype=uint8>, <tf.Tensor 'astronaut:0' shape=(512, 512, 3) dtype=uint8>, <tf.Tensor 'hubble_deep_field:0' shape=(872, 1000, 3) dtype=uint8>]\n"
          ],
          "name": "stdout"
        }
      ]
    },
    {
      "cell_type": "markdown",
      "metadata": {
        "id": "y8_ZU7S4Xj0o",
        "colab_type": "text"
      },
      "source": [
        "#### 정답 화면\n",
        "````python\n",
        ">>> tf.get_collection('gray') \n",
        "[<tf.Tensor 'camera:0' shape=(512, 512) dtype=uint8>,\n",
        "<tf.Tensor 'binary_blobs:0' shape=(512, 512) dtype=bool>,\n",
        "<tf.Tensor 'checkerboard:0' shape=(200, 200) dtype=uint8>,\n",
        "<tf.Tensor 'coins:0' shape=(303, 384) dtype=uint8>,\n",
        "<tf.Tensor 'horse:0' shape=(328, 400) dtype=bool>]\n",
        "  \n",
        ">>> tf.get_collection('color') \n",
        "[<tf.Tensor 'chelsea:0' shape=(300, 451, 3) dtype=uint8>,\n",
        "<tf.Tensor 'astronaut:0' shape=(512, 512, 3) dtype=uint8>,\n",
        "<tf.Tensor 'hubble_deep_field:0' shape=(872, 1000, 3) dtype=uint8>]\n",
        "````"
      ]
    },
    {
      "cell_type": "markdown",
      "metadata": {
        "colab_type": "text",
        "id": "WuxKIhVQyl2f"
      },
      "source": [
        "##  문제 2 특정 collection 에만 추가하기 \n",
        "\n",
        "+ 3개의 변수를 만들어주세요. 변수이름은 각각 'var0 , var1, var2' 로 만들어 주세요 \n",
        "+ 그리고 아래 조건에 따라 해당 변수들을 알맞은 collection 에 추가해 주세요.\n",
        "+ 변수 1 → 'variables' , 'var1' collection 에 추가 \n",
        "+ 변수 2 → 'var2', 'trainable_variables' 에추가 \n",
        "+ 변수 3 → 'var3' collection 에**만** 추가 "
      ]
    },
    {
      "cell_type": "code",
      "metadata": {
        "colab_type": "code",
        "id": "PiB0384Zyl2g",
        "colab": {}
      },
      "source": [
        "# 우선 실행해 주세요\n",
        "tf.reset_default_graph()"
      ],
      "execution_count": 0,
      "outputs": []
    },
    {
      "cell_type": "markdown",
      "metadata": {
        "id": "X8kCX3DtXj0w",
        "colab_type": "text"
      },
      "source": [
        "#### 답안지 입력란\n",
        "* 아래에 답을 서술하여 주세요"
      ]
    },
    {
      "cell_type": "code",
      "metadata": {
        "id": "s9EIpwRA0WxP",
        "colab_type": "code",
        "colab": {}
      },
      "source": [
        "a = tf.Variable(1, name='var1', trainable=False)\n",
        "b = tf.Variable(2, name='var2', trainable=True)\n",
        "c = tf.Variable(3, name='var3')\n",
        "\n",
        "tf.add_to_collection('var1', a)\n",
        "tf.add_to_collection('var2', b)\n",
        "tf.add_to_collection('var3', c)\n"
      ],
      "execution_count": 0,
      "outputs": []
    },
    {
      "cell_type": "markdown",
      "metadata": {
        "id": "hggWnCFPXj0z",
        "colab_type": "text"
      },
      "source": [
        "#### 정답 확인\n",
        "* 정답이 아래와 같이 나타나면 됩니다."
      ]
    },
    {
      "cell_type": "code",
      "metadata": {
        "id": "_8uFcjyaXj00",
        "colab_type": "code",
        "outputId": "995a5a9a-c621-49c0-b854-b87dd493df20",
        "colab": {
          "base_uri": "https://localhost:8080/",
          "height": 35
        }
      },
      "source": [
        "graph = tf.get_default_graph()\n",
        "graph.get_all_collection_keys()\n",
        "# 아래와 같이 나오면 정답입니다.\n",
        "# ['var1', 'variables', 'trainable_variables', 'var2', 'var3']"
      ],
      "execution_count": 0,
      "outputs": [
        {
          "output_type": "execute_result",
          "data": {
            "text/plain": [
              "['variables', 'trainable_variables', 'var1', 'var2', 'var3']"
            ]
          },
          "metadata": {
            "tags": []
          },
          "execution_count": 139
        }
      ]
    },
    {
      "cell_type": "code",
      "metadata": {
        "id": "GORiTJBCXj04",
        "colab_type": "code",
        "outputId": "d86a09a8-174e-46a6-f44d-1bb05e4111f8",
        "colab": {
          "base_uri": "https://localhost:8080/",
          "height": 52
        }
      },
      "source": [
        "graph.get_collection('trainable_variables')\n",
        "# 아래와 같이 나오면 정답입니다.\n",
        "# [<tf.Variable 'var1:0' shape=() dtype=int32_ref>,\n",
        "# <tf.Variable 'var2:0' shape=() dtype=int32_ref>]"
      ],
      "execution_count": 0,
      "outputs": [
        {
          "output_type": "execute_result",
          "data": {
            "text/plain": [
              "[<tf.Variable 'var2:0' shape=() dtype=int32_ref>,\n",
              " <tf.Variable 'var3:0' shape=() dtype=int32_ref>]"
            ]
          },
          "metadata": {
            "tags": []
          },
          "execution_count": 140
        }
      ]
    },
    {
      "cell_type": "code",
      "metadata": {
        "id": "PlvWYWL0Xj08",
        "colab_type": "code",
        "outputId": "3a76330e-a1cf-4f3b-f974-bc69921581dd",
        "colab": {
          "base_uri": "https://localhost:8080/",
          "height": 70
        }
      },
      "source": [
        "graph.get_collection('variables')\n",
        "# 아래와 같이 나오면 정답입니다.\n",
        "# [<tf.Variable 'var1:0' shape=() dtype=int32_ref>]"
      ],
      "execution_count": 0,
      "outputs": [
        {
          "output_type": "execute_result",
          "data": {
            "text/plain": [
              "[<tf.Variable 'var1:0' shape=() dtype=int32_ref>,\n",
              " <tf.Variable 'var2:0' shape=() dtype=int32_ref>,\n",
              " <tf.Variable 'var3:0' shape=() dtype=int32_ref>]"
            ]
          },
          "metadata": {
            "tags": []
          },
          "execution_count": 141
        }
      ]
    },
    {
      "cell_type": "code",
      "metadata": {
        "id": "jjsIBUAUXj1B",
        "colab_type": "code",
        "outputId": "2549bb54-6a32-41b0-f4f7-9e58bd612116",
        "colab": {
          "base_uri": "https://localhost:8080/",
          "height": 35
        }
      },
      "source": [
        "graph.get_collection('var1')\n",
        "# 아래와 같이 나오면 정답입니다.\n",
        "# [<tf.Variable 'var1:0' shape=() dtype=int32_ref>]"
      ],
      "execution_count": 0,
      "outputs": [
        {
          "output_type": "execute_result",
          "data": {
            "text/plain": [
              "[<tf.Variable 'var1:0' shape=() dtype=int32_ref>]"
            ]
          },
          "metadata": {
            "tags": []
          },
          "execution_count": 142
        }
      ]
    },
    {
      "cell_type": "code",
      "metadata": {
        "id": "yfVVnJzRXj1F",
        "colab_type": "code",
        "outputId": "38ab0d24-a216-428f-bd20-15d1b44deb33",
        "colab": {
          "base_uri": "https://localhost:8080/",
          "height": 35
        }
      },
      "source": [
        "graph.get_collection('var2')\n",
        "# 아래와 같이 나오면 정답입니다.\n",
        "# [<tf.Variable 'var2:0' shape=() dtype=int32_ref>]"
      ],
      "execution_count": 0,
      "outputs": [
        {
          "output_type": "execute_result",
          "data": {
            "text/plain": [
              "[<tf.Variable 'var2:0' shape=() dtype=int32_ref>]"
            ]
          },
          "metadata": {
            "tags": []
          },
          "execution_count": 143
        }
      ]
    },
    {
      "cell_type": "code",
      "metadata": {
        "id": "d8kNrWwKXj1J",
        "colab_type": "code",
        "outputId": "28555ea4-b637-44a8-b753-69ce1e211faf",
        "colab": {
          "base_uri": "https://localhost:8080/",
          "height": 35
        }
      },
      "source": [
        "graph.get_collection('var3')\n",
        "# 아래와 같이 나오면 정답입니다.\n",
        "# [<tf.Variable 'var3:0' shape=() dtype=int32_ref>]"
      ],
      "execution_count": 0,
      "outputs": [
        {
          "output_type": "execute_result",
          "data": {
            "text/plain": [
              "[<tf.Variable 'var3:0' shape=() dtype=int32_ref>]"
            ]
          },
          "metadata": {
            "tags": []
          },
          "execution_count": 144
        }
      ]
    },
    {
      "cell_type": "markdown",
      "metadata": {
        "colab_type": "text",
        "id": "Ls82TZY3i4qg"
      },
      "source": [
        "##  문제 3. 피보나치 수열 \n",
        "\n",
        "--- \n",
        "텐서 플로우를 이용해 피보나치 수열을 생성합니다 <br>\n",
        "10번째 피보나치 수열의 값을 구하는 코드를 작성하세요 <br>\n",
        "\n",
        "**example** <br>\n",
        "1번째 1, 1 = 2 → 1번째 피보나치 수열의 값 <br>\n",
        "2번쩨 1, 2 = 3 → 2번째 피보나치 수열의 값 <br>\n",
        "3번째 2, 3 = 5 → 3번째 피보나치 수열의 값 <br>\n",
        "4번째 5, 3 = 8 → 4번째 피보나치 수열의 값 <br><br>\n",
        "...<br><br>\n",
        "10번째 정답은 144 입니다. <br>\n",
        "해당 값이 나올수 있도록 tensorflow 코드를 작성해 주세요<br>\n",
        "<br>"
      ]
    },
    {
      "cell_type": "code",
      "metadata": {
        "colab_type": "code",
        "id": "AHeNcG4yiaV-",
        "colab": {}
      },
      "source": [
        "# 우선 실행해 주세요.\n",
        "tf.reset_default_graph()\n",
        "prev = tf.Variable(1.)\n",
        "now = tf.Variable(1.)\n",
        "tmp = tf.Variable(0.)"
      ],
      "execution_count": 0,
      "outputs": []
    },
    {
      "cell_type": "markdown",
      "metadata": {
        "id": "OPKzCeHqXj1V",
        "colab_type": "text"
      },
      "source": [
        "#### 답안지 입력란\n",
        "* 아래에 답을 서술하여 주세요\n",
        "* `update_ops`를 실행하면 값이 갱신되도록 해주세요."
      ]
    },
    {
      "cell_type": "code",
      "metadata": {
        "id": "ouzwD4CXXj1W",
        "colab_type": "code",
        "colab": {}
      },
      "source": [
        "# def update_ops(prev, now):\n",
        "#     tmp = prev\n",
        "#     prev = now\n",
        "#     now = tmp + prev\n",
        "#     return tmp, prev, now\n",
        "\n",
        "\n",
        "# tmp_op = tf.assign(ref=tmp, value=prev)\n",
        "# prev_op = tf.assign(ref=prev, value=now)\n",
        "# now_op = tf.assign(ref=now, value=tmp+prev)\n",
        "# update_ops = tf.group(tmp_op, prev_op, now_op)\n",
        "\n",
        "\n",
        "tmp_op = tf.assign(ref=tmp, value=prev)\n",
        "with tf.control_dependencies([tmp_op]):\n",
        "    prev_op = tf.assign(ref=prev, value=now)\n",
        "with tf.control_dependencies([prev_op]):\n",
        "    now_op = tf.assign(ref=now, value=tmp+prev)\n",
        "with tf.control_dependencies([now_op]):\n",
        "    update_ops = tf.group(tmp_op, prev_op, now_op)\n"
      ],
      "execution_count": 0,
      "outputs": []
    },
    {
      "cell_type": "markdown",
      "metadata": {
        "id": "QkqPnnp5Xj1a",
        "colab_type": "text"
      },
      "source": [
        "#### 정답 확인\n",
        "* 정답이 아래와 같이 나타나면 됩니다."
      ]
    },
    {
      "cell_type": "code",
      "metadata": {
        "colab_type": "code",
        "id": "vSTQ35Beyl2k",
        "outputId": "99b13973-2370-4c51-9920-0896cb69b35c",
        "colab": {
          "base_uri": "https://localhost:8080/",
          "height": 35
        }
      },
      "source": [
        "sess = tf.Session()\n",
        "sess.run(tf.global_variables_initializer())\n",
        "for i in range(10):\n",
        "    _ , prev_value, curr_value = sess.run([update_ops, prev, now])\n",
        "print(prev_value, curr_value)\n",
        "\n",
        "# 아래와 같이 나오면 정답입니다.\n",
        "# 89.0 144.0"
      ],
      "execution_count": 0,
      "outputs": [
        {
          "output_type": "stream",
          "text": [
            "89.0 144.0\n"
          ],
          "name": "stdout"
        }
      ]
    },
    {
      "cell_type": "code",
      "metadata": {
        "id": "ERJem-CBCcaK",
        "colab_type": "code",
        "outputId": "af001c8f-da76-4ca4-89aa-9b404fe1a389",
        "colab": {
          "base_uri": "https://localhost:8080/",
          "height": 640
        }
      },
      "source": [
        "import matplotlib.pyplot as plt\n",
        "default_graph = tf.get_default_graph()\n",
        "show_graph(default_graph)"
      ],
      "execution_count": 0,
      "outputs": [
        {
          "output_type": "display_data",
          "data": {
            "text/html": [
              "\n",
              "        <iframe seamless style=\"width:1200px;height:620px;border:0\" srcdoc=\"\n",
              "        <script>\n",
              "          function load() {\n",
              "            document.getElementById(&quot;graph0.13480009693238504&quot;).pbtxt = 'node {\\n  name: &quot;Variable/initial_value&quot;\\n  op: &quot;Const&quot;\\n  attr {\\n    key: &quot;dtype&quot;\\n    value {\\n      type: DT_FLOAT\\n    }\\n  }\\n  attr {\\n    key: &quot;value&quot;\\n    value {\\n      tensor {\\n        dtype: DT_FLOAT\\n        tensor_shape {\\n        }\\n        float_val: 1.0\\n      }\\n    }\\n  }\\n}\\nnode {\\n  name: &quot;Variable&quot;\\n  op: &quot;VariableV2&quot;\\n  attr {\\n    key: &quot;container&quot;\\n    value {\\n      s: &quot;&quot;\\n    }\\n  }\\n  attr {\\n    key: &quot;dtype&quot;\\n    value {\\n      type: DT_FLOAT\\n    }\\n  }\\n  attr {\\n    key: &quot;shape&quot;\\n    value {\\n      shape {\\n      }\\n    }\\n  }\\n  attr {\\n    key: &quot;shared_name&quot;\\n    value {\\n      s: &quot;&quot;\\n    }\\n  }\\n}\\nnode {\\n  name: &quot;Variable/Assign&quot;\\n  op: &quot;Assign&quot;\\n  input: &quot;Variable&quot;\\n  input: &quot;Variable/initial_value&quot;\\n  attr {\\n    key: &quot;T&quot;\\n    value {\\n      type: DT_FLOAT\\n    }\\n  }\\n  attr {\\n    key: &quot;_class&quot;\\n    value {\\n      list {\\n        s: &quot;loc:@Variable&quot;\\n      }\\n    }\\n  }\\n  attr {\\n    key: &quot;use_locking&quot;\\n    value {\\n      b: true\\n    }\\n  }\\n  attr {\\n    key: &quot;validate_shape&quot;\\n    value {\\n      b: true\\n    }\\n  }\\n}\\nnode {\\n  name: &quot;Variable/read&quot;\\n  op: &quot;Identity&quot;\\n  input: &quot;Variable&quot;\\n  attr {\\n    key: &quot;T&quot;\\n    value {\\n      type: DT_FLOAT\\n    }\\n  }\\n  attr {\\n    key: &quot;_class&quot;\\n    value {\\n      list {\\n        s: &quot;loc:@Variable&quot;\\n      }\\n    }\\n  }\\n}\\nnode {\\n  name: &quot;Variable_1/initial_value&quot;\\n  op: &quot;Const&quot;\\n  attr {\\n    key: &quot;dtype&quot;\\n    value {\\n      type: DT_FLOAT\\n    }\\n  }\\n  attr {\\n    key: &quot;value&quot;\\n    value {\\n      tensor {\\n        dtype: DT_FLOAT\\n        tensor_shape {\\n        }\\n        float_val: 1.0\\n      }\\n    }\\n  }\\n}\\nnode {\\n  name: &quot;Variable_1&quot;\\n  op: &quot;VariableV2&quot;\\n  attr {\\n    key: &quot;container&quot;\\n    value {\\n      s: &quot;&quot;\\n    }\\n  }\\n  attr {\\n    key: &quot;dtype&quot;\\n    value {\\n      type: DT_FLOAT\\n    }\\n  }\\n  attr {\\n    key: &quot;shape&quot;\\n    value {\\n      shape {\\n      }\\n    }\\n  }\\n  attr {\\n    key: &quot;shared_name&quot;\\n    value {\\n      s: &quot;&quot;\\n    }\\n  }\\n}\\nnode {\\n  name: &quot;Variable_1/Assign&quot;\\n  op: &quot;Assign&quot;\\n  input: &quot;Variable_1&quot;\\n  input: &quot;Variable_1/initial_value&quot;\\n  attr {\\n    key: &quot;T&quot;\\n    value {\\n      type: DT_FLOAT\\n    }\\n  }\\n  attr {\\n    key: &quot;_class&quot;\\n    value {\\n      list {\\n        s: &quot;loc:@Variable_1&quot;\\n      }\\n    }\\n  }\\n  attr {\\n    key: &quot;use_locking&quot;\\n    value {\\n      b: true\\n    }\\n  }\\n  attr {\\n    key: &quot;validate_shape&quot;\\n    value {\\n      b: true\\n    }\\n  }\\n}\\nnode {\\n  name: &quot;Variable_1/read&quot;\\n  op: &quot;Identity&quot;\\n  input: &quot;Variable_1&quot;\\n  attr {\\n    key: &quot;T&quot;\\n    value {\\n      type: DT_FLOAT\\n    }\\n  }\\n  attr {\\n    key: &quot;_class&quot;\\n    value {\\n      list {\\n        s: &quot;loc:@Variable_1&quot;\\n      }\\n    }\\n  }\\n}\\nnode {\\n  name: &quot;Variable_2/initial_value&quot;\\n  op: &quot;Const&quot;\\n  attr {\\n    key: &quot;dtype&quot;\\n    value {\\n      type: DT_FLOAT\\n    }\\n  }\\n  attr {\\n    key: &quot;value&quot;\\n    value {\\n      tensor {\\n        dtype: DT_FLOAT\\n        tensor_shape {\\n        }\\n        float_val: 0.0\\n      }\\n    }\\n  }\\n}\\nnode {\\n  name: &quot;Variable_2&quot;\\n  op: &quot;VariableV2&quot;\\n  attr {\\n    key: &quot;container&quot;\\n    value {\\n      s: &quot;&quot;\\n    }\\n  }\\n  attr {\\n    key: &quot;dtype&quot;\\n    value {\\n      type: DT_FLOAT\\n    }\\n  }\\n  attr {\\n    key: &quot;shape&quot;\\n    value {\\n      shape {\\n      }\\n    }\\n  }\\n  attr {\\n    key: &quot;shared_name&quot;\\n    value {\\n      s: &quot;&quot;\\n    }\\n  }\\n}\\nnode {\\n  name: &quot;Variable_2/Assign&quot;\\n  op: &quot;Assign&quot;\\n  input: &quot;Variable_2&quot;\\n  input: &quot;Variable_2/initial_value&quot;\\n  attr {\\n    key: &quot;T&quot;\\n    value {\\n      type: DT_FLOAT\\n    }\\n  }\\n  attr {\\n    key: &quot;_class&quot;\\n    value {\\n      list {\\n        s: &quot;loc:@Variable_2&quot;\\n      }\\n    }\\n  }\\n  attr {\\n    key: &quot;use_locking&quot;\\n    value {\\n      b: true\\n    }\\n  }\\n  attr {\\n    key: &quot;validate_shape&quot;\\n    value {\\n      b: true\\n    }\\n  }\\n}\\nnode {\\n  name: &quot;Variable_2/read&quot;\\n  op: &quot;Identity&quot;\\n  input: &quot;Variable_2&quot;\\n  attr {\\n    key: &quot;T&quot;\\n    value {\\n      type: DT_FLOAT\\n    }\\n  }\\n  attr {\\n    key: &quot;_class&quot;\\n    value {\\n      list {\\n        s: &quot;loc:@Variable_2&quot;\\n      }\\n    }\\n  }\\n}\\nnode {\\n  name: &quot;Assign&quot;\\n  op: &quot;Assign&quot;\\n  input: &quot;Variable_2&quot;\\n  input: &quot;Variable/read&quot;\\n  attr {\\n    key: &quot;T&quot;\\n    value {\\n      type: DT_FLOAT\\n    }\\n  }\\n  attr {\\n    key: &quot;_class&quot;\\n    value {\\n      list {\\n        s: &quot;loc:@Variable_2&quot;\\n      }\\n    }\\n  }\\n  attr {\\n    key: &quot;use_locking&quot;\\n    value {\\n      b: true\\n    }\\n  }\\n  attr {\\n    key: &quot;validate_shape&quot;\\n    value {\\n      b: true\\n    }\\n  }\\n}\\nnode {\\n  name: &quot;Assign_1&quot;\\n  op: &quot;Assign&quot;\\n  input: &quot;Variable&quot;\\n  input: &quot;Variable_1/read&quot;\\n  input: &quot;^Assign&quot;\\n  attr {\\n    key: &quot;T&quot;\\n    value {\\n      type: DT_FLOAT\\n    }\\n  }\\n  attr {\\n    key: &quot;_class&quot;\\n    value {\\n      list {\\n        s: &quot;loc:@Variable&quot;\\n      }\\n    }\\n  }\\n  attr {\\n    key: &quot;use_locking&quot;\\n    value {\\n      b: true\\n    }\\n  }\\n  attr {\\n    key: &quot;validate_shape&quot;\\n    value {\\n      b: true\\n    }\\n  }\\n}\\nnode {\\n  name: &quot;add&quot;\\n  op: &quot;Add&quot;\\n  input: &quot;Variable_2/read&quot;\\n  input: &quot;Variable/read&quot;\\n  input: &quot;^Assign_1&quot;\\n  attr {\\n    key: &quot;T&quot;\\n    value {\\n      type: DT_FLOAT\\n    }\\n  }\\n}\\nnode {\\n  name: &quot;Assign_2&quot;\\n  op: &quot;Assign&quot;\\n  input: &quot;Variable_1&quot;\\n  input: &quot;add&quot;\\n  attr {\\n    key: &quot;T&quot;\\n    value {\\n      type: DT_FLOAT\\n    }\\n  }\\n  attr {\\n    key: &quot;_class&quot;\\n    value {\\n      list {\\n        s: &quot;loc:@Variable_1&quot;\\n      }\\n    }\\n  }\\n  attr {\\n    key: &quot;use_locking&quot;\\n    value {\\n      b: true\\n    }\\n  }\\n  attr {\\n    key: &quot;validate_shape&quot;\\n    value {\\n      b: true\\n    }\\n  }\\n}\\nnode {\\n  name: &quot;group_deps&quot;\\n  op: &quot;NoOp&quot;\\n  input: &quot;^Assign&quot;\\n  input: &quot;^Assign_1&quot;\\n  input: &quot;^Assign_2&quot;\\n}\\nnode {\\n  name: &quot;init&quot;\\n  op: &quot;NoOp&quot;\\n  input: &quot;^Variable/Assign&quot;\\n  input: &quot;^Variable_1/Assign&quot;\\n  input: &quot;^Variable_2/Assign&quot;\\n}\\n';\n",
              "          }\n",
              "        </script>\n",
              "        <link rel=&quot;import&quot; href=&quot;https://tensorboard.appspot.com/tf-graph-basic.build.html&quot; onload=load()>\n",
              "        <div style=&quot;height:600px&quot;>\n",
              "          <tf-graph-basic id=&quot;graph0.13480009693238504&quot;></tf-graph-basic>\n",
              "        </div>\n",
              "    \"></iframe>\n",
              "    "
            ],
            "text/plain": [
              "<IPython.core.display.HTML object>"
            ]
          },
          "metadata": {
            "tags": []
          }
        }
      ]
    },
    {
      "cell_type": "code",
      "metadata": {
        "id": "OzU6lgjvDktb",
        "colab_type": "code",
        "colab": {}
      },
      "source": [
        "from IPython.display import clear_output, Image, display, HTML\n",
        "import numpy as np    \n",
        "\n",
        "def strip_consts(graph_def, max_const_size=32):\n",
        "    \"\"\"Strip large constant values from graph_def.\"\"\"\n",
        "    strip_def = tf.GraphDef()\n",
        "    for n0 in graph_def.node:\n",
        "        n = strip_def.node.add() \n",
        "        n.MergeFrom(n0)\n",
        "        if n.op == 'Const':\n",
        "            tensor = n.attr['value'].tensor\n",
        "            size = len(tensor.tensor_content)\n",
        "            if size > max_const_size:\n",
        "                tensor.tensor_content = \"<stripped %d bytes>\"%size\n",
        "    return strip_def\n",
        "\n",
        "def show_graph(graph_def, max_const_size=32):\n",
        "    \"\"\"Visualize TensorFlow graph.\"\"\"\n",
        "    if hasattr(graph_def, 'as_graph_def'):\n",
        "        graph_def = graph_def.as_graph_def()\n",
        "    strip_def = strip_consts(graph_def, max_const_size=max_const_size)\n",
        "    code = \"\"\"\n",
        "        <script>\n",
        "          function load() {{\n",
        "            document.getElementById(\"{id}\").pbtxt = {data};\n",
        "          }}\n",
        "        </script>\n",
        "        <link rel=\"import\" href=\"https://tensorboard.appspot.com/tf-graph-basic.build.html\" onload=load()>\n",
        "        <div style=\"height:600px\">\n",
        "          <tf-graph-basic id=\"{id}\"></tf-graph-basic>\n",
        "        </div>\n",
        "    \"\"\".format(data=repr(str(strip_def)), id='graph'+str(np.random.rand()))\n",
        "\n",
        "    iframe = \"\"\"\n",
        "        <iframe seamless style=\"width:1200px;height:620px;border:0\" srcdoc=\"{}\"></iframe>\n",
        "    \"\"\".format(code.replace('\"', '&quot;'))\n",
        "    display(HTML(iframe))"
      ],
      "execution_count": 0,
      "outputs": []
    }
  ]
}