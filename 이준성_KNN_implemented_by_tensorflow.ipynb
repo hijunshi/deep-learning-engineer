{
  "nbformat": 4,
  "nbformat_minor": 0,
  "metadata": {
    "colab": {
      "name": "이준성_KNN_implemented_by_tensorflow.ipynb",
      "version": "0.3.2",
      "provenance": [],
      "collapsed_sections": [],
      "include_colab_link": true
    },
    "language_info": {
      "codemirror_mode": {
        "name": "ipython",
        "version": 3
      },
      "file_extension": ".py",
      "mimetype": "text/x-python",
      "name": "python",
      "nbconvert_exporter": "python",
      "pygments_lexer": "ipython3",
      "version": "3.6.5"
    },
    "kernelspec": {
      "display_name": "Python 3",
      "language": "python",
      "name": "python3"
    }
  },
  "cells": [
    {
      "cell_type": "markdown",
      "metadata": {
        "id": "view-in-github",
        "colab_type": "text"
      },
      "source": [
        "<a href=\"https://colab.research.google.com/github/hijunshi/deep-learning-engineer/blob/homeworks_submission/%EC%9D%B4%EC%A4%80%EC%84%B1_KNN_implemented_by_tensorflow.ipynb\" target=\"_parent\"><img src=\"https://colab.research.google.com/assets/colab-badge.svg\" alt=\"Open In Colab\"/></a>"
      ]
    },
    {
      "cell_type": "markdown",
      "metadata": {
        "colab_type": "text",
        "id": "-SG8srkJ2upM"
      },
      "source": [
        " ╔══<i><b>&nbsp;Alai-DeepLearning&nbsp;</b></i>══════════════════════════════════╗\n",
        "###  &nbsp;&nbsp; **✎&nbsp;&nbsp;Week 4. Tensorflow basis**\n",
        "# Homework 1. Tensorflow로 K-NN 구현하기\n",
        "\n",
        "### _Objective_\n",
        "1. Tensorflow 을 이용해서 K-NN 알고리즘을 구현합니다.\n",
        "\n",
        "\n",
        "╚═══════════════════════════════════════════════╝"
      ]
    },
    {
      "cell_type": "code",
      "metadata": {
        "id": "fL5e3BlA2cM5",
        "colab_type": "code",
        "colab": {}
      },
      "source": [
        "%matplotlib inline\n",
        "import numpy as np\n",
        "import tensorflow as tf\n",
        "\n",
        "import matplotlib.pyplot as plt"
      ],
      "execution_count": 0,
      "outputs": []
    },
    {
      "cell_type": "markdown",
      "metadata": {
        "colab_type": "text",
        "id": "34r66vr2O6Re"
      },
      "source": [
        "## 예제 데이터 )  영화 분석 결과\n"
      ]
    },
    {
      "cell_type": "markdown",
      "metadata": {
        "colab_type": "text",
        "id": "UvPQnmcgyKzr"
      },
      "source": [
        "\n",
        "#### 데이터 ) 각 영화 별 싸움 횟수와 키스 횟수\n",
        "\n",
        "| 영화 제목 | the number of Kick | The number os Kiss | Type |\n",
        "| ------  | ----| ----| --- |\n",
        "| 냉정과열정사이 | 3 | 104 | Romance|\n",
        "| 바람과함께사라지다 | 2 | 100 | Romance |\n",
        "| 아름다운 여인 | 1 | 81 | Romance |\n",
        "| 인정사정볼것없다 | 101 | 10 | Action |\n",
        "| 놈놈놈 | 99 | 5 | Action |\n",
        "| 화랑 | 98 | 2 | Action |\n",
        "| 뜨거운 가슴으로 | 25 | 87 | ? |"
      ]
    },
    {
      "cell_type": "code",
      "metadata": {
        "colab_type": "code",
        "id": "WrSWb4HgO6Rf",
        "colab": {}
      },
      "source": [
        "# 0번째 열 : 킥 횟수, 1번째 열 : 키스 횟수\n",
        "dataset = np.array([\n",
        "    [3, 104],\n",
        "    [2, 100],\n",
        "    [1, 81],\n",
        "    [101, 10],\n",
        "    [99, 5],\n",
        "    [98, 2],\n",
        "])\n",
        "\n",
        "labels = np.array(['Romance','Romance','Romance',\n",
        "          'Action','Action','Action'])\n",
        "\n",
        "inX = np.array([25, 87])"
      ],
      "execution_count": 0,
      "outputs": []
    },
    {
      "cell_type": "code",
      "metadata": {
        "id": "LuwKfJEw2cNA",
        "colab_type": "code",
        "outputId": "32748afd-fb73-4e3c-d1e9-a1e1b6d8291f",
        "colab": {
          "base_uri": "https://localhost:8080/",
          "height": 295
        }
      },
      "source": [
        "plt.title(\"The Category of Movie\")\n",
        "plt.scatter(dataset[:3,0],dataset[:3,1],label='Romance',\n",
        "            c='g')\n",
        "plt.scatter(dataset[3:,0],dataset[3:,1],label='Action',\n",
        "            c='r')\n",
        "plt.scatter(25,87,label=\"?\",\n",
        "            c='b')\n",
        "\n",
        "\n",
        "plt.xlabel('The number of Kick')\n",
        "plt.ylabel('The number of Kiss')\n",
        "plt.legend()\n",
        "plt.show()"
      ],
      "execution_count": 0,
      "outputs": [
        {
          "output_type": "display_data",
          "data": {
            "image/png": "[encoded data removed]",
            "text/plain": [
              "<Figure size 432x288 with 1 Axes>"
            ]
          },
          "metadata": {
            "tags": []
          }
        }
      ]
    },
    {
      "cell_type": "markdown",
      "metadata": {
        "colab_type": "text",
        "id": "m6TeIycb2upQ"
      },
      "source": [
        "<br>\n",
        "<br>\n",
        "## 알고리즘 탐색하기\n",
        "---\n",
        "KNN의 알고리즘 순서\n",
        "\n",
        "1. 우리가 분류항목을 알고자 하는 점(inX)와 알고 있는 점들(dataset)과의 모든 점 거리를 계산\n",
        "2. 오름 차순으로 거리의 길이를 정렬\n",
        "3. inX와의 거리가 가장 짧은 K개의 아이템 추출\n",
        "4. K개의 아이템에서 가장 많은 분류 항목 찾기\n",
        "5. 해당 항목 반환\n",
        "\n",
        "\n",
        "아래 코드는 Numpy 로 KNN을 구현한 코드 입니다.\n",
        "\n",
        "---"
      ]
    },
    {
      "cell_type": "code",
      "metadata": {
        "colab_type": "code",
        "id": "GGgHvn3KHn0b",
        "colab": {}
      },
      "source": [
        "def classify_knn(inX, dataset, labels, K):\n",
        "    # (1) 우리가 분류항목을 알고자 하는 점 (inX)와 \n",
        "    # 알고 있는 점들(dataset)과의 모든 점 거리를 계산\n",
        "    dists = np.sqrt(np.sum((inX-dataset)**2, axis=1))\n",
        "    \n",
        "    # (2) 오름 차순으로 거리의 길이를 정렬\n",
        "    sorted_index = dists.argsort()\n",
        "    \n",
        "    # (3) inX와의 거리가 가장짧은 K개의 아이템 추출\n",
        "    sorted_labels = labels[sorted_index]\n",
        "    K_nearest_labels = sorted_labels[:K]\n",
        "    \n",
        "    # (4) K개의 아이템에서 가장 많은 분류 항목 찾기\n",
        "    _labels, count_labels = np.unique(K_nearest_labels,\n",
        "          return_counts=True)\n",
        "    \n",
        "    # (5) 해당 항목 반환\n",
        "    return _labels[count_labels.argmax()]"
      ],
      "execution_count": 0,
      "outputs": []
    },
    {
      "cell_type": "code",
      "metadata": {
        "id": "u4TgNw3g2cNH",
        "colab_type": "code",
        "outputId": "02cc1fd0-e195-43bd-f330-3e7ed603bb74",
        "colab": {
          "base_uri": "https://localhost:8080/",
          "height": 35
        }
      },
      "source": [
        "# 킥 횟수가 52번, 키스 횟수가 10번인 작품\n",
        "classify_knn([52, 10], dataset, labels, 4)"
      ],
      "execution_count": 0,
      "outputs": [
        {
          "output_type": "execute_result",
          "data": {
            "text/plain": [
              "'Action'"
            ]
          },
          "metadata": {
            "tags": []
          },
          "execution_count": 5
        }
      ]
    },
    {
      "cell_type": "code",
      "metadata": {
        "id": "okJ3qwML2cNK",
        "colab_type": "code",
        "outputId": "a919154c-00f9-45f7-beaf-90a9efda5c40",
        "colab": {
          "base_uri": "https://localhost:8080/",
          "height": 35
        }
      },
      "source": [
        "# 킥 횟수가 19번, 키스 횟수가 72번인 작품\n",
        "classify_knn([19, 72], dataset, labels, 4)"
      ],
      "execution_count": 0,
      "outputs": [
        {
          "output_type": "execute_result",
          "data": {
            "text/plain": [
              "'Romance'"
            ]
          },
          "metadata": {
            "tags": []
          },
          "execution_count": 6
        }
      ]
    },
    {
      "cell_type": "markdown",
      "metadata": {
        "colab_type": "text",
        "id": "Bck5xSdp5MKo"
      },
      "source": [
        "## \\[ 문제 : 텐서플로우를 이용해 K-NN 구현하기 \\]\n",
        "\n",
        "텐서플로우는 numpy와 달리, Dataflow Programming 방식으로 동작합니다. <br>\n",
        "우선 연산을 결정하고, 반복적인 연산은 Session 시에 진행해야 합니다.<br>\n",
        "\n"
      ]
    },
    {
      "cell_type": "code",
      "metadata": {
        "id": "opyShVhq2cNN",
        "colab_type": "code",
        "colab": {}
      },
      "source": [
        "graph = tf.Graph()\n",
        "with graph.as_default():\n",
        "    inX_tf = tf.placeholder(tf.float32, shape=(2), name='inX')\n",
        "    dataset_tf = tf.placeholder(tf.float32, shape=(None,2), name='dataset')\n",
        "    labels_tf = tf.placeholder(tf.string, shape=(None,), name='labels')\n",
        "    K_tf = tf.placeholder_with_default(4,(),name='K')\n",
        "    \n",
        "    ##########\n",
        "    # CODE HERE!\n",
        "    # 아래의 결과가 나오도록 수정해 주세요!\n",
        "    #\n",
        "    #\n",
        "    #\n",
        "    #\n",
        "    #\n",
        "    ##########        \n",
        "    \n",
        "    # 1.거리계산\n",
        "    dists_tf = tf.math.sqrt(tf.math.reduce_sum(tf.math.square(tf.subtract(inX_tf,dataset_tf)), axis=[1]))\n",
        "    # 2.거리가 가장 짧은 K개의 아이템 추출\n",
        "    # 음수로 만들어서 큰 값을 K개 뽑아내었다.\n",
        "    _, top_k_idx = tf.math.top_k(tf.negative(dists_tf), k=K_tf)\n",
        "    # 거리가 K번째까지 가까운 순위의 인덱스에 해당하는 라벨을 모았다.\n",
        "    top_k_label = tf.gather(labels_tf, top_k_idx)\n",
        "    # 3.추출한 라벨을 요약하여 가장 많은 건의 라벨을 정한다.\n",
        "    # 거리가 K번째까지 가까운 순위의 라벨의 정보를 요약한다. \n",
        "    # 라벨, 인덱스, 카운트    \n",
        "    label_, idx_, cnt_ = tf.unique_with_counts(top_k_label)\n",
        "    # 가장 큰 카운트를 기록한 것의 라벨을 반환받는다.\n",
        "    max_label_idx = tf.math.argmax(cnt_)\n",
        "    # 최다 인덱스의 라벨을 아웃풋에 넣는다.\n",
        "    output = label_[max_label_idx]\n",
        "    "
      ],
      "execution_count": 0,
      "outputs": []
    },
    {
      "cell_type": "code",
      "metadata": {
        "id": "re6Dp9Wz2cNP",
        "colab_type": "code",
        "colab": {}
      },
      "source": [
        "# 아래와 같은 결과가 나오면 됩니다.\n",
        "sess = tf.Session(graph=graph)"
      ],
      "execution_count": 0,
      "outputs": []
    },
    {
      "cell_type": "code",
      "metadata": {
        "id": "EE5VHhuW2cNQ",
        "colab_type": "code",
        "outputId": "0a7d819a-9eb9-4ea8-b3ed-1235efe24985",
        "colab": {
          "base_uri": "https://localhost:8080/",
          "height": 35
        }
      },
      "source": [
        "# 킥 횟수가 52번, 키스 횟수가 10번인 작품\n",
        "sess.run(output,feed_dict={\n",
        "    inX_tf:[52,10],\n",
        "    dataset_tf: dataset,\n",
        "    labels_tf: labels,\n",
        "})\n",
        "# >>> b'Action' \n",
        "# 이 나와야 합니다."
      ],
      "execution_count": 0,
      "outputs": [
        {
          "output_type": "execute_result",
          "data": {
            "text/plain": [
              "b'Action'"
            ]
          },
          "metadata": {
            "tags": []
          },
          "execution_count": 6
        }
      ]
    },
    {
      "cell_type": "code",
      "metadata": {
        "id": "s2Mdp2H12cNT",
        "colab_type": "code",
        "outputId": "34138f12-c5c8-4d5b-b201-f7980e3ef0c2",
        "colab": {
          "base_uri": "https://localhost:8080/",
          "height": 35
        }
      },
      "source": [
        "# 킥 횟수가 19번, 키스 횟수가 72번인 작품\n",
        "sess.run(output,feed_dict={\n",
        "    inX_tf:[19,72],\n",
        "    dataset_tf: dataset,\n",
        "    labels_tf: labels,\n",
        "})\n",
        "# >>> b'Romance' \n",
        "# 이 나와야 합니다."
      ],
      "execution_count": 0,
      "outputs": [
        {
          "output_type": "execute_result",
          "data": {
            "text/plain": [
              "b'Romance'"
            ]
          },
          "metadata": {
            "tags": []
          },
          "execution_count": 7
        }
      ]
    },
    {
      "cell_type": "code",
      "metadata": {
        "id": "QQgrjqz9hWhx",
        "colab_type": "code",
        "colab": {}
      },
      "source": [
        ""
      ],
      "execution_count": 0,
      "outputs": []
    }
  ]
}