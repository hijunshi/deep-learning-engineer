{
  "nbformat": 4,
  "nbformat_minor": 0,
  "metadata": {
    "colab": {
      "name": "이준성_6_Tensorboard.ipynb",
      "version": "0.3.2",
      "provenance": [],
      "collapsed_sections": [],
      "include_colab_link": true
    },
    "language_info": {
      "codemirror_mode": {
        "name": "ipython",
        "version": 3
      },
      "file_extension": ".py",
      "mimetype": "text/x-python",
      "name": "python",
      "nbconvert_exporter": "python",
      "pygments_lexer": "ipython3",
      "version": "3.6.5"
    },
    "kernelspec": {
      "display_name": "Python 3",
      "language": "python",
      "name": "python3"
    }
  },
  "cells": [
    {
      "cell_type": "markdown",
      "metadata": {
        "id": "view-in-github",
        "colab_type": "text"
      },
      "source": [
        "<a href=\"https://colab.research.google.com/github/hijunshi/deep-learning-engineer/blob/homeworks_submission/%EC%9D%B4%EC%A4%80%EC%84%B1_6_Tensorboard.ipynb\" target=\"_parent\"><img src=\"https://colab.research.google.com/assets/colab-badge.svg\" alt=\"Open In Colab\"/></a>"
      ]
    },
    {
      "cell_type": "markdown",
      "metadata": {
        "colab_type": "text",
        "id": "vmuR5Lqv-GMj"
      },
      "source": [
        "## Tensorboard 연결하기"
      ]
    },
    {
      "cell_type": "code",
      "metadata": {
        "id": "9zNTnonhap_v",
        "colab_type": "code",
        "outputId": "4e4f01f7-69e9-404a-a1d3-aad56c8d9364",
        "colab": {
          "base_uri": "https://localhost:8080/",
          "height": 52
        }
      },
      "source": [
        "%matplotlib inline\n",
        "\n",
        "!pip install tensorboardcolab\n",
        "import tensorboardcolab\n",
        "import numpy as np\n",
        "import tensorflow as tf\n",
        "\n",
        "import matplotlib.pyplot as plt"
      ],
      "execution_count": 0,
      "outputs": [
        {
          "output_type": "stream",
          "text": [
            "Requirement already satisfied: tensorboardcolab in /usr/local/lib/python3.6/dist-packages (0.0.22)\n"
          ],
          "name": "stdout"
        },
        {
          "output_type": "stream",
          "text": [
            "Using TensorFlow backend.\n"
          ],
          "name": "stderr"
        }
      ]
    },
    {
      "cell_type": "markdown",
      "metadata": {
        "id": "esk8bmQfap_1",
        "colab_type": "text"
      },
      "source": [
        "## 예제 데이터 )  난수로 만든 데이터 셋\n",
        "\n",
        "아래는 10000개의 랜덤으로 만들어진 데이터 셋입니다.<br>\n",
        "강한 선형 관계를 가지고 있습니다.<br>\n",
        "\n",
        "우리는 여기서 X,Y 사이에서 어떤 기울기와 편차를 가지고 있는지를 확인해 보도록 하겠습니다."
      ]
    },
    {
      "cell_type": "code",
      "metadata": {
        "id": "PqiiSv-oap_2",
        "colab_type": "code",
        "outputId": "9b61a798-9003-4617-d7ec-8b9dae77912a",
        "colab": {
          "base_uri": "https://localhost:8080/",
          "height": 281
        }
      },
      "source": [
        "num_data = 10000 # 데이터의 수 \n",
        "\n",
        "data_X = np.random.normal(0,0.55,[num_data])\n",
        "data_Y = data_X * 0.1 + 0.3 + np.random.normal(0,0.03,[num_data])\n",
        "\n",
        "plt.title(\"data Distribution\")\n",
        "plt.scatter(data_X, data_Y, c='C0', \n",
        "            label='Original data', alpha=0.5)\n",
        "plt.show()"
      ],
      "execution_count": 0,
      "outputs": [
        {
          "output_type": "display_data",
          "data": {
            "image/png": "[encoded data removed]",
            "text/plain": [
              "<Figure size 432x288 with 1 Axes>"
            ]
          },
          "metadata": {
            "tags": []
          }
        }
      ]
    },
    {
      "cell_type": "markdown",
      "metadata": {
        "id": "RpDDVWoEap_6",
        "colab_type": "text"
      },
      "source": [
        "+ 아래 코드는 다음 시간에 배울 linear regression 을 텐서플로우로 구현해 놓은 코드 입니다.\n",
        "+ 우선 `Graph`로 Linear Regression의 연산들을 정의합니다."
      ]
    },
    {
      "cell_type": "code",
      "metadata": {
        "colab_type": "code",
        "id": "whguqqYx-9v1",
        "colab": {}
      },
      "source": [
        "graph = tf.Graph()\n",
        "with graph.as_default():\n",
        "    xs = tf.placeholder(tf.float32, shape=(None,), name='x')\n",
        "    y_true = tf.placeholder(tf.float32, shape=(None,), name='y_true')\n",
        "\n",
        "    # 변수 초기화\n",
        "    with tf.variable_scope('weights'):\n",
        "        W = tf.Variable(tf.random.normal([1]),\"W\")\n",
        "        b = tf.Variable(tf.zeros([1]),'b')\n",
        "\n",
        "    # Model\n",
        "    with tf.variable_scope(\"Linear_Regression\"):\n",
        "        y_pred = W * xs + b\n",
        "    y_pred = tf.identity(y_pred, name=\"y_pred\")\n",
        "    \n",
        "    # Loss Function\n",
        "    with tf.variable_scope(\"losses\"):\n",
        "        loss = tf.reduce_mean(tf.square(y_pred - y_true))\n",
        "    \n",
        "    # Optimizer\n",
        "    train_op = (tf.train\n",
        "                .GradientDescentOptimizer(0.01)\n",
        "                .minimize(loss))"
      ],
      "execution_count": 0,
      "outputs": []
    },
    {
      "cell_type": "markdown",
      "metadata": {
        "id": "ihx55efpap_9",
        "colab_type": "text"
      },
      "source": [
        "+ 아래는 `Session`을 통해 Linear Regression을 학습하는 과정입니다."
      ]
    },
    {
      "cell_type": "code",
      "metadata": {
        "id": "d1kVD5P3ap_-",
        "colab_type": "code",
        "colab": {}
      },
      "source": [
        "with graph.as_default():\n",
        "    sess = tf.Session(graph=graph)\n",
        "    sess.run(tf.global_variables_initializer())\n",
        "\n",
        "    # Training loop\n",
        "    for _ in range(1000):\n",
        "        sess.run(train_op,feed_dict={xs:data_X,y_true:data_Y})\n",
        "    W_, b_ = sess.run([W,b])"
      ],
      "execution_count": 0,
      "outputs": []
    },
    {
      "cell_type": "markdown",
      "metadata": {
        "id": "rrzA4DDZaqAB",
        "colab_type": "text"
      },
      "source": [
        "* 위의 모델이 학습이 끝난 후의 결과입니다."
      ]
    },
    {
      "cell_type": "code",
      "metadata": {
        "id": "L8WrCKdTaqAB",
        "colab_type": "code",
        "outputId": "7e1fab57-97d3-4572-b3d1-829eecd2ee67",
        "colab": {
          "base_uri": "https://localhost:8080/",
          "height": 287
        }
      },
      "source": [
        "print(\"학습된 Weight : {:.3f} Bias : {:.3f}\".format(W_[0], b_[0]))\n",
        "# visualization data\n",
        "plt.scatter(data_X, data_Y, c='C0', label='Original data', alpha=0.5)\n",
        "\n",
        "pred_X = np.array([-2.,2.])\n",
        "pred_Y = sess.run(y_pred, feed_dict={xs:pred_X})\n",
        "preds = np.stack([pred_X,pred_Y])\n",
        "plt.plot(pred_X,pred_Y, color='r', label='wx+b')\n",
        "\n",
        "plt.legend()\n",
        "plt.show()"
      ],
      "execution_count": 0,
      "outputs": [
        {
          "output_type": "stream",
          "text": [
            "학습된 Weight : 0.098 Bias : 0.300\n"
          ],
          "name": "stdout"
        },
        {
          "output_type": "display_data",
          "data": {
            "image/png": "[encoded data removed]",
            "text/plain": [
              "<Figure size 432x288 with 1 Axes>"
            ]
          },
          "metadata": {
            "tags": []
          }
        }
      ]
    },
    {
      "cell_type": "markdown",
      "metadata": {
        "id": "GoeCQnfraqAG",
        "colab_type": "text"
      },
      "source": [
        "## 문제 1. 학습 과정 시각화하기\n",
        "\n",
        "* 위의 방식으로 학습을 할 경우, 우리는 학습 과정 중에 어떤식으로 가중치가 변하는지 확인할 수 없습니다. Tensorboard를 통해, 학습 과정을 시각화해 보겠습니다.\n",
        "\n",
        "아래 코드에 다음 조건을 만족하도록 수정해 주세요! <br>\n",
        "\n",
        "조건 1. graph tensorbaord 에 연결 <br>\n",
        "조건 2. W, B, loss 는 scalar summary 노드를 이용해 시각화 <br>\n",
        "조건 3. W, B, loss 는 step 별로 추적 <br>"
      ]
    },
    {
      "cell_type": "code",
      "metadata": {
        "id": "hQ4sWHx8aqAH",
        "colab_type": "code",
        "outputId": "298553bc-0904-466c-8692-cf0566f8c840",
        "colab": {
          "base_uri": "https://localhost:8080/",
          "height": 70
        }
      },
      "source": [
        "# 우선 실행해주세요\n",
        "graph = tf.Graph()\n",
        "with graph.as_default():\n",
        "    xs = tf.placeholder(tf.float32, shape=(None,), name='x')\n",
        "    y_true = tf.placeholder(tf.float32, shape=(None,), name='y_true')\n",
        "\n",
        "    # 변수 초기화\n",
        "    with tf.variable_scope('weights'):\n",
        "        W = tf.Variable(tf.random.normal([1]),\"W\")\n",
        "        b = tf.Variable(tf.zeros([1]),'b')\n",
        "\n",
        "    # Model\n",
        "    with tf.variable_scope(\"Linear_Regression\"):\n",
        "        y_pred = W * xs + b\n",
        "    y_pred = tf.identity(y_pred, name=\"y_pred\")\n",
        "    \n",
        "    # Loss Function\n",
        "    with tf.variable_scope(\"losses\"):\n",
        "        loss = tf.reduce_mean(tf.square(y_pred - y_true))\n",
        "    \n",
        "    # Optimizer\n",
        "    train_op = (tf.train\n",
        "                .GradientDescentOptimizer(0.01)\n",
        "                .minimize(loss))\n",
        "    \n",
        "log_dir = \"./log/\"\n",
        "tbc = tensorboardcolab.TensorBoardColab(graph_path=log_dir)"
      ],
      "execution_count": 0,
      "outputs": [
        {
          "output_type": "stream",
          "text": [
            "Wait for 8 seconds...\n",
            "TensorBoard link:\n",
            "https://f55ff6c8.ngrok.io\n"
          ],
          "name": "stdout"
        }
      ]
    },
    {
      "cell_type": "markdown",
      "metadata": {
        "id": "3e-ug_l0aqAJ",
        "colab_type": "text"
      },
      "source": [
        "#### 답안지 입력란\n",
        "* 아래에 답을 서술하여 주세요\n",
        "* 텐서보드의 로그 디렉토리는 `./log/`에 담아주세요"
      ]
    },
    {
      "cell_type": "code",
      "metadata": {
        "id": "MhMYa05laqAK",
        "colab_type": "code",
        "colab": {}
      },
      "source": [
        "# 정답을 입력해주세요\n",
        "# 아래 학습 과정 중에 텐서보드를 선언하고\n",
        "# Summary 연산을 통해 올려 주세요.\n",
        "\n",
        "\n",
        "# tf.reset_default_graph()\n",
        "# writer = tf.summary.FileWriter(logdir=log_dir)\n",
        "# writer.add_graph(graph=tf.get_default_graph())\n",
        "\n",
        "\n",
        "\n",
        "# tf_W = tf.summary.scalar(name='W', tensor=W)\n",
        "# tf_b = tf.summary.scalar(name='b', tensor=b)\n",
        "# tf_loss = tf.summary.scalar(name='loss', tensor=loss)\n",
        "# W_assign = tf.assign_add(ref=W, value=[0])\n",
        "# b_assign = tf.assign_add(ref=b, value=[0])\n",
        "# loss_assign = tf.assign_add(ref=loss, value=[1])\n",
        "\n",
        "\n",
        "# tf.summary.scalar(name='W', tensor=W)\n",
        "# tf.summary.scalar(name='b', tensor=b)\n",
        "# tf.summary.scalar(name='loss', tensor=loss)\n",
        "# tf.assign_add(ref=W, value=[0])\n",
        "# tf.assign_add(ref=b, value=[0])\n",
        "\n",
        "\n",
        "\n",
        "\n",
        "\n",
        "with graph.as_default():\n",
        "    \n",
        "    tf.summary.scalar(name='W', tensor=W[0])\n",
        "    tf.summary.scalar(name='b', tensor=b[0])\n",
        "    tf.summary.scalar(name='loss', tensor=loss)\n",
        "    \n",
        "    # merge summaries \n",
        "    merged_all = tf.summary.merge_all()\n",
        "\n",
        "    writer = tf.summary.FileWriter(logdir=log_dir)\n",
        "    writer.add_graph(graph=tf.get_default_graph())   \n",
        "    \n",
        "    \n",
        "    sess = tf.Session(graph=tf.get_default_graph())\n",
        "    sess.run(tf.global_variables_initializer())\n",
        "    for step in range(1000):\n",
        "        _, summary_values = sess.run([train_op, merged_all],\n",
        "                                     feed_dict={\n",
        "                                         xs: data_X,\n",
        "                                         y_true: data_Y\n",
        "                                     })\n",
        "        writer.add_summary(summary_values, step)\n",
        "        \n",
        "#         feed_dict={xs:data_X,y_true:data_Y}"
      ],
      "execution_count": 0,
      "outputs": []
    },
    {
      "cell_type": "code",
      "metadata": {
        "id": "1pYoVEQOJe9n",
        "colab_type": "code",
        "outputId": "2f09f246-bd76-4083-9929-03b9b6f31f25",
        "colab": {
          "base_uri": "https://localhost:8080/",
          "height": 88
        }
      },
      "source": [
        "print(xs)\n",
        "print(data_X)\n",
        "print(y_true, data_Y)"
      ],
      "execution_count": 0,
      "outputs": [
        {
          "output_type": "stream",
          "text": [
            "Tensor(\"x:0\", shape=(?,), dtype=float32)\n",
            "[-0.07789584 -0.00095364  0.11496961 ...  0.62184903 -0.48705916\n",
            "  0.19225418]\n",
            "Tensor(\"y_true:0\", shape=(?,), dtype=float32) [0.29842393 0.27968457 0.30410397 ... 0.40931287 0.19178117 0.28119937]\n"
          ],
          "name": "stdout"
        }
      ]
    },
    {
      "cell_type": "markdown",
      "metadata": {
        "id": "d8S6e1cKaqAN",
        "colab_type": "text"
      },
      "source": [
        "#### 정답 확인\n",
        "* 정답이 아래와 같이 나타나면 됩니다.\n",
        "* 텐서 보드를 실행후 아래와 같은 그림이 나올수 있도록 아래 코드를 수정합니다.\n",
        "\n",
        "![Imgur](https://i.imgur.com/CrtFMfz.png)\n",
        "![Imgur](https://i.imgur.com/71atRw2.png)"
      ]
    }
  ]
}